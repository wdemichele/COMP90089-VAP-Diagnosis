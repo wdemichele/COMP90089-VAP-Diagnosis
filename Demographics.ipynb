{
  "cells": [
    {
      "cell_type": "code",
      "execution_count": null,
      "metadata": {
        "vscode": {
          "languageId": "plaintext"
        }
      },
      "outputs": [],
      "source": [
        "# Import necessary libraries\n",
        "import os\n",
        "import pandas as pd\n",
        "from google.cloud import bigquery\n",
        "import matplotlib.pyplot as plt\n",
        "import seaborn as sns\n",
        "\n",
        "\n",
        "# Define a list of patient demographics and clinical characteristics to retrieve\n",
        "demographics = [\n",
        "    'subject_id',\n",
        "    'gender',\n",
        "    'dob',\n",
        "    'admittime',\n",
        "    'dischtime',\n",
        "    'insurance',\n",
        "    'ethnicity',\n",
        "    'hospital_expire_flag'\n",
        "]\n",
        "\n",
        "# Construct BigQuery SQL query to retrieve demographic data\n",
        "query = f\"\"\"\n",
        "SELECT\n",
        "    {', '.join(demographics)}\n",
        "FROM\n",
        "    `{project_id}.{dataset_name}.patients`\n",
        "\"\"\"\n",
        "\n",
        "# Create a BigQuery client\n",
        "client = bigquery.Client(project=project_id)\n",
        "\n",
        "# Retrieve demographic data\n",
        "demographic_data = client.query(query).to_dataframe()\n",
        "\n",
        "\n",
        " Gender distribution\n",
        "gender_counts = demographic_data['gender'].value_counts()\n",
        "plt.figure(figsize=(8, 6))\n",
        "sns.barplot(x=gender_counts.index, y=gender_counts.values)\n",
        "plt.title('Gender Distribution')\n",
        "plt.xlabel('Gender')\n",
        "plt.ylabel('Count')\n",
        "plt.show()\n",
        "\n",
        " Age distribution\n",
        "demographic_data['dob'] = pd.to_datetime(demographic_data['dob'])\n",
        "demographic_data['age'] = (demographic_data['admittime'] - demographic_data['dob']).dt.days / 365\n",
        "plt.figure(figsize=(10, 6))\n",
        "sns.histplot(demographic_data['age'], bins=20, kde=True)\n",
        "plt.title('Age Distribution')\n",
        "plt.xlabel('Age')\n",
        "plt.ylabel('Count')\n",
        "plt.show()\n",
        "\n",
        " Ethnicity distribution\n",
        "ethnicity_counts = demographic_data['ethnicity'].value_counts().head(10)\n",
        "plt.figure(figsize=(12, 6))\n",
        "sns.barplot(x=ethnicity_counts.index, y=ethnicity_counts.values)\n",
        "plt.title('Top 10 Ethnicities')\n",
        "plt.xlabel('Ethnicity')\n",
        "plt.ylabel('Count')\n",
        "plt.xticks(rotation=45)\n",
        "plt.show()\n",
        "\n",
        " Hospital mortality analysis\n",
        "hospital_expire_counts = demographic_data['hospital_expire_flag'].value_counts()\n",
        "plt.figure(figsize=(6, 6))\n",
        "sns.barplot(x=hospital_expire_counts.index, y=hospital_expire_counts.values)\n",
        "plt.title('Hospital Mortality')\n",
        "plt.xlabel('Expired (1) or Survived (0)')\n",
        "plt.ylabel('Count')\n",
        "plt.show()\n",
        "\n",
        "\n"
      ]
    }
  ],
  "metadata": {
    "colab": {
      "provenance": []
    },
    "kernelspec": {
      "display_name": "Python 3",
      "language": "python",
      "name": "python3"
    },
    "language_info": {
      "codemirror_mode": {
        "name": "ipython",
        "version": 3
      },
      "file_extension": ".py",
      "mimetype": "text/x-python",
      "name": "python",
      "nbconvert_exporter": "python",
      "pygments_lexer": "ipython3",
      "version": "3.7.3"
    }
  },
  "nbformat": 4,
  "nbformat_minor": 0
}
