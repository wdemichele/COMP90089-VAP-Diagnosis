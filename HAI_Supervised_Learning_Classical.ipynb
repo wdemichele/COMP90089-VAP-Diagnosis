{
  "nbformat": 4,
  "nbformat_minor": 0,
  "metadata": {
    "colab": {
      "provenance": [],
      "collapsed_sections": [
        "S6aO9UeQD_-1"
      ]
    },
    "kernelspec": {
      "name": "python3",
      "display_name": "Python 3"
    },
    "language_info": {
      "name": "python"
    }
  },
  "cells": [
    {
      "cell_type": "markdown",
      "source": [
        "# Supervised Learning Method (Classical Models)\n",
        "\n",
        "---\n",
        "\n"
      ],
      "metadata": {
        "id": "S6aO9UeQD_-1"
      }
    },
    {
      "cell_type": "markdown",
      "source": [
        "## Data Preprocessing\n",
        "\n",
        "### 1. Loading Data\n",
        "- Load the MIMIC-IV dataset (hosp, icu, notes).\n",
        "\n",
        "### 2. Feature Selection\n",
        "- Select relevant features based on the defined digital phenotype.\n",
        "\n",
        "### 3. Data Cleaning\n",
        "- Remove outliers, handle missing data, and other noise.\n",
        "\n",
        "### 4. Data Normalisation\n",
        "- Standardise the scales for numerical features.\n",
        "- Impute missing values particularly for important features\n",
        "\n",
        "### 5. Label Encoding/Categorisation\n",
        "- Convert categorical features to numerical values if needed.\n",
        "\n",
        "### 6. Natural Language Processing (NLP)\n",
        "- Extract and categorise insights from clinical notes.\n",
        "\n",
        "### 7. Balance Datasets\n",
        "- Handle significant class imbalance using Upsampling/Downsampling techniques\n",
        "- E.g. SMOTE, class_weight\n",
        "\n",
        "### 8. Train-Test Split\n",
        "- Partition the dataset into training and testing sets.\n",
        "- Stratify datasets\n",
        "\n",
        "---\n",
        "\n",
        "## Model Building\n",
        "\n",
        "### 1. Model Selection\n",
        "- Choose appropriate machine learning model(s) (e.g., Decision Trees, Random Forest, SVM).\n",
        "\n",
        "### 2. Hyperparameter Tuning\n",
        "- Fine-tune model hyperparameters using techniques like GridSearch or RandomSearch.\n",
        "\n",
        "### 3. Feature Importance\n",
        "- Evaluate and rank the importance of each feature.\n",
        "\n",
        "### 4. Model Training\n",
        "- Train the selected model on the training dataset.\n",
        "\n",
        "---\n",
        "\n",
        "## Model Evaluation\n",
        "\n",
        "### 1. Validation Metrics\n",
        "- Define metrics for evaluation (e.g., accuracy, precision, recall, F1-score).\n",
        "\n",
        "### 2. Cross-Validation\n",
        "- Apply cross-validation to assess model performance.\n",
        "\n",
        "### 3. Performance Metrics\n",
        "- Compute performance metrics on the testing set.\n",
        "\n",
        "### 4. Confusion Matrix\n",
        "- Generate a confusion matrix to evaluate class-wise performance.\n",
        "\n",
        "### 5. ROC Curve\n",
        "- Evaluate the Receiver Operating Characteristic (ROC) curve.\n",
        "\n",
        "---\n"
      ],
      "metadata": {
        "id": "HkrAxbfDSRan"
      }
    },
    {
      "cell_type": "markdown",
      "source": [
        "# Model Imports"
      ],
      "metadata": {
        "id": "VWffvjOTSSOv"
      }
    },
    {
      "cell_type": "code",
      "execution_count": null,
      "metadata": {
        "id": "kznaLaa2DKyL"
      },
      "outputs": [],
      "source": [
        "# Import libraries\n",
        "from datetime import timedelta\n",
        "import os\n",
        "\n",
        "import numpy as np\n",
        "import pandas as pd\n",
        "import re\n",
        "import matplotlib.pyplot as plt\n",
        "import matplotlib.dates as mdates\n",
        "import pandas as pd\n",
        "from sklearn.feature_selection import RFE\n",
        "from sklearn.model_selection import train_test_split\n",
        "from sklearn.ensemble import RandomForestClassifier\n",
        "from sklearn.model_selection import StratifiedKFold\n",
        "from sklearn.model_selection import cross_val_score\n",
        "from sklearn.metrics import accuracy_score\n",
        "from sklearn.metrics import classification_report\n",
        "from imblearn.over_sampling import SMOTE\n",
        "from sklearn.datasets import make_classification\n",
        "from sklearn.utils import resample\n",
        "from sklearn.ensemble import GradientBoostingClassifier\n",
        "\n",
        "import numpy as np\n",
        "\n",
        "from IPython.display import display, HTML, Image\n",
        "%matplotlib inline\n",
        "\n",
        "plt.style.use('ggplot')\n",
        "plt.rcParams.update({'font.size': 20})\n",
        "\n",
        "# Access data using Google BigQuery.\n",
        "from google.colab import auth\n",
        "from google.cloud import bigquery\n",
        "\n",
        "# authenticate\n",
        "auth.authenticate_user()\n",
        "\n",
        "# User options: 'Will', 'Chinatip'\n",
        "# USER = \"Will\"\n",
        "USER = \"Azmi\"\n",
        "\n",
        "# Set up environment variables\n",
        "if USER == 'Will':\n",
        "    project_id = 'eighth-arbor-396212'\n",
        "elif USER == 'Chinatip':\n",
        "    project_id = 'ml-health-application'\n",
        "elif USER == 'Azmi':\n",
        "    project_id = \"ml-health-395010\"\n",
        "else:\n",
        "    project_id = None # FILL IN HERE\n",
        "\n",
        "os.environ[\"GOOGLE_CLOUD_PROJECT\"] = project_id\n",
        "\n",
        "# Read data from BigQuery into pandas dataframes.\n",
        "def run_query(query, project_id=project_id):\n",
        "  return pd.io.gbq.read_gbq(\n",
        "      query,\n",
        "      project_id=project_id,\n",
        "      dialect='standard')\n",
        "\n",
        "# set the dataset\n",
        "dataset = 'mimiciv'\n"
      ]
    },
    {
      "cell_type": "markdown",
      "source": [
        "## Select All Patient Features"
      ],
      "metadata": {
        "id": "6kzVzFJXKkYk"
      }
    },
    {
      "cell_type": "code",
      "source": [
        "BIG_QUERY = False\n",
        "\n",
        "if BIG_QUERY:\n",
        "    query = \"SELECT * FROM `comp90089-hai-patients.hai_patients.patient_cohort_features` limit 3000\"\n",
        "    data = run_query(query)\n",
        "else:\n",
        "    from google.colab import drive\n",
        "    drive.mount('/content/drive')\n",
        "\n",
        "    file_path = ''\n",
        "    if USER == 'Will':\n",
        "        file_path = '/content/drive/My Drive/Colab Notebooks/COMP90089 Group Project Data/patient_cohort_features_vap.csv'\n",
        "    elif USER == 'Azmi':\n",
        "        file_path = '/content/drive/MyDrive/ML Health/proposal/patient_cohort_features_vap.csv'\n",
        "    data = pd.read_csv(file_path)\n"
      ],
      "metadata": {
        "id": "k2mwyQ7tClwa",
        "colab": {
          "base_uri": "https://localhost:8080/"
        },
        "outputId": "bf6e83d6-01a3-454f-aea5-f0a9cee56ef2"
      },
      "execution_count": null,
      "outputs": [
        {
          "output_type": "stream",
          "name": "stdout",
          "text": [
            "Drive already mounted at /content/drive; to attempt to forcibly remount, call drive.mount(\"/content/drive\", force_remount=True).\n"
          ]
        }
      ]
    },
    {
      "cell_type": "markdown",
      "source": [
        "# Data Cleaning"
      ],
      "metadata": {
        "id": "BsX7YnuVcnOP"
      }
    },
    {
      "cell_type": "code",
      "source": [
        "def check_null():\n",
        "  #Check missing values\n",
        "  print(data.isnull().sum(),\"\\n\\n\")\n",
        "\n",
        "  #Check the type of data for each column. Notice that 'gender' is categorical (object) and 'dod' is time series.\n",
        "  print(data.info())\n",
        "check_null()"
      ],
      "metadata": {
        "id": "m9IRtpBda7gU",
        "colab": {
          "base_uri": "https://localhost:8080/"
        },
        "outputId": "156e7fe8-f2f2-4d3c-bad4-0625ee1119d1"
      },
      "execution_count": null,
      "outputs": [
        {
          "output_type": "stream",
          "name": "stdout",
          "text": [
            "subject_id                             0\n",
            "hadm_id                                0\n",
            "stay_id                                0\n",
            "duration_from_vap_device            7990\n",
            "type__s__cmv                        7990\n",
            "                                    ... \n",
            "vent_o2_device-high_flow_neb        7215\n",
            "vent_o2_device-nasal_cannula        7215\n",
            "vent_o2_device-t-piece              7215\n",
            "vent_o2_device-trach_mask_          7215\n",
            "vent_o2_device-tracheostomy_tube    7215\n",
            "Length: 277, dtype: int64 \n",
            "\n",
            "\n",
            "<class 'pandas.core.frame.DataFrame'>\n",
            "RangeIndex: 26974 entries, 0 to 26973\n",
            "Columns: 277 entries, subject_id to vent_o2_device-tracheostomy_tube\n",
            "dtypes: float64(258), int64(2), object(17)\n",
            "memory usage: 57.0+ MB\n",
            "None\n"
          ]
        }
      ]
    },
    {
      "cell_type": "markdown",
      "source": [
        "## Drop Columns"
      ],
      "metadata": {
        "id": "v0D1PWknaUQr"
      }
    },
    {
      "cell_type": "code",
      "source": [
        "import pandas as pd\n",
        "from datetime import datetime\n",
        "\n",
        "def is_datetime_col(series, sample_size=100):\n",
        "    \"\"\"Check if a pandas Series contains datetime-like values.\"\"\"\n",
        "    sample = series.dropna().sample(min(sample_size, series.count()))\n",
        "    for item in sample:\n",
        "        try:\n",
        "            # Try to convert to datetime object\n",
        "            datetime.strptime(str(item), '%Y-%m-%d %H:%M:%S %Z')\n",
        "        except ValueError:\n",
        "            return False\n",
        "    return True\n",
        "\n",
        "# Assume 'data' is your DataFrame\n",
        "datetime_cols = []\n",
        "for col in data.columns:\n",
        "    if is_datetime_col(data[col]):\n",
        "        datetime_cols.append(col)\n",
        "\n",
        "# Drop datetime columns\n",
        "data = data.drop(columns=datetime_cols)\n",
        "\n",
        "print(f\"Dropped the following datetime columns: {datetime_cols}\")"
      ],
      "metadata": {
        "id": "ZGpfyFpiYRme",
        "colab": {
          "base_uri": "https://localhost:8080/"
        },
        "outputId": "b2fd4e96-9750-4a70-9237-4fd2ef74c096"
      },
      "execution_count": null,
      "outputs": [
        {
          "output_type": "stream",
          "name": "stdout",
          "text": [
            "Dropped the following datetime columns: ['abnormal_procalcitonin', 'abnormal_oxygen_levels_from_vap_lab', 'abnormal_wbc_count_from_vap_lab', 'belowavr_wbc_count_from_vap_lab', 'aboveavr_wbc_count_from_vap_lab', 'abnormal_c_reactive_protein_from_vap_lab', 'abnormal_procalcitonin_from_vap_lab', 'admittime', 'dischtime', 'deathtime', 'edregtime', 'edouttime']\n"
          ]
        }
      ]
    },
    {
      "cell_type": "code",
      "source": [
        "data.drop(['subject_id', 'hadm_id', 'stay_id', 'stay_id_1', 'admit_provider_id'], axis=1, inplace=True)\n"
      ],
      "metadata": {
        "id": "tNvQK3vqaXjK"
      },
      "execution_count": null,
      "outputs": []
    },
    {
      "cell_type": "code",
      "source": [
        "# #drop records with unknown race and gender\n",
        "# data = data[data['race'] != 'Unknown']\n",
        "# data = data[data['gender'] != None]\n",
        "\n",
        "\n",
        "# # Fill missing value with mean values\n",
        "# data.fillna(data.mean(), inplace=True)\n",
        "# data"
      ],
      "metadata": {
        "id": "sHZwyf2eHhN5"
      },
      "execution_count": null,
      "outputs": []
    },
    {
      "cell_type": "code",
      "source": [
        "# Iterate over columns and apply the prefix and fill NaN with replacement value\n",
        "for col in data.columns:\n",
        "    if col.startswith(\"type_\") or col.startswith(\"vent_type_\") or col.startswith(\"value_\") or col.startswith(\"vent_o2_device_\"):\n",
        "        data[col].fillna(0, inplace=True)\n",
        "check_null()"
      ],
      "metadata": {
        "id": "P7EM1xIiHwcp",
        "colab": {
          "base_uri": "https://localhost:8080/"
        },
        "outputId": "19cc9be5-87be-484b-da39-88c3564a7c73"
      },
      "execution_count": null,
      "outputs": [
        {
          "output_type": "stream",
          "name": "stdout",
          "text": [
            "duration_from_vap_device            7990\n",
            "type__s__cmv                           0\n",
            "type_aprv                              0\n",
            "type_aprv_biphasic_apnpress            0\n",
            "type_aprv_biphasic_apnvol              0\n",
            "                                    ... \n",
            "vent_o2_device-high_flow_neb        7215\n",
            "vent_o2_device-nasal_cannula        7215\n",
            "vent_o2_device-t-piece              7215\n",
            "vent_o2_device-trach_mask_          7215\n",
            "vent_o2_device-tracheostomy_tube    7215\n",
            "Length: 260, dtype: int64 \n",
            "\n",
            "\n",
            "<class 'pandas.core.frame.DataFrame'>\n",
            "RangeIndex: 26974 entries, 0 to 26973\n",
            "Columns: 260 entries, duration_from_vap_device to vent_o2_device-tracheostomy_tube\n",
            "dtypes: float64(249), object(11)\n",
            "memory usage: 53.5+ MB\n",
            "None\n"
          ]
        }
      ]
    },
    {
      "cell_type": "code",
      "source": [
        "# drop na and duplicate records\n",
        "# data = data.dropna()\n",
        "data = data.drop_duplicates()\n",
        "\n",
        "# Remove na records\n",
        "check_null()"
      ],
      "metadata": {
        "id": "wzXP5pOWbtPi",
        "colab": {
          "base_uri": "https://localhost:8080/"
        },
        "outputId": "be9a4156-eed3-4b79-9da7-84bcfd393187"
      },
      "execution_count": null,
      "outputs": [
        {
          "output_type": "stream",
          "name": "stdout",
          "text": [
            "duration_from_vap_device            4816\n",
            "type__s__cmv                           0\n",
            "type_aprv                              0\n",
            "type_aprv_biphasic_apnpress            0\n",
            "type_aprv_biphasic_apnvol              0\n",
            "                                    ... \n",
            "vent_o2_device-high_flow_neb        4257\n",
            "vent_o2_device-nasal_cannula        4257\n",
            "vent_o2_device-t-piece              4257\n",
            "vent_o2_device-trach_mask_          4257\n",
            "vent_o2_device-tracheostomy_tube    4257\n",
            "Length: 260, dtype: int64 \n",
            "\n",
            "\n",
            "<class 'pandas.core.frame.DataFrame'>\n",
            "Int64Index: 17860 entries, 0 to 26968\n",
            "Columns: 260 entries, duration_from_vap_device to vent_o2_device-tracheostomy_tube\n",
            "dtypes: float64(249), object(11)\n",
            "memory usage: 35.6+ MB\n",
            "None\n"
          ]
        }
      ]
    },
    {
      "cell_type": "markdown",
      "source": [
        "## Data Normalisation & Label Encoding/Categorisation"
      ],
      "metadata": {
        "id": "6hOmbrfKzUI5"
      }
    },
    {
      "cell_type": "code",
      "source": [
        "type_df = data.applymap(type)\n",
        "\n",
        "string_columns = []\n",
        "for col in type_df.columns:\n",
        "    if (type_df[col] == str).any():\n",
        "        string_columns.append(col)\n",
        "\n",
        "print(f\"Columns with at least one string element: {string_columns}\")"
      ],
      "metadata": {
        "id": "RDjo3GPNZczS",
        "colab": {
          "base_uri": "https://localhost:8080/"
        },
        "outputId": "7a26296a-d79d-4f31-db7f-c837b36edfd9"
      },
      "execution_count": null,
      "outputs": [
        {
          "output_type": "stream",
          "name": "stdout",
          "text": [
            "Columns with at least one string element: ['admission_type', 'admission_location', 'discharge_location', 'insurance', 'language', 'marital_status', 'race', 'gender', 'anchor_year_group', 'dod', 'HAI_category']\n"
          ]
        }
      ]
    },
    {
      "cell_type": "markdown",
      "source": [
        "#### Transform DOD Feature"
      ],
      "metadata": {
        "id": "8tC8kFhGZ5HV"
      }
    },
    {
      "cell_type": "code",
      "source": [
        "data['died'] = data['dod'].notna()\n",
        "\n",
        "data.drop('dod', axis=1, inplace=True)"
      ],
      "metadata": {
        "id": "Uw3sBb_0Z81t"
      },
      "execution_count": null,
      "outputs": []
    },
    {
      "cell_type": "markdown",
      "source": [
        "### Label Encoding"
      ],
      "metadata": {
        "id": "c2w3_Ag4oyoa"
      }
    },
    {
      "cell_type": "code",
      "source": [
        "data = pd.get_dummies(data, columns=['admission_type', 'race', 'gender', 'insurance', 'admission_type', 'admission_location', 'discharge_location', 'language', 'marital_status', 'anchor_year_group'])\n",
        "\n",
        "# Create a LabelEncoder instance\n",
        "from sklearn.preprocessing import LabelEncoder\n",
        "label_encoder = LabelEncoder()\n",
        "\n",
        "# fill missing value with mean\n",
        "data.fillna(data.mean(), inplace=True)"
      ],
      "metadata": {
        "id": "QAseLXFPCoht",
        "colab": {
          "base_uri": "https://localhost:8080/"
        },
        "outputId": "f37ba2f3-1d67-4716-b18d-943fbb8a0f9b"
      },
      "execution_count": null,
      "outputs": [
        {
          "output_type": "stream",
          "name": "stderr",
          "text": [
            "<ipython-input-11-baf6b1632119>:8: FutureWarning: The default value of numeric_only in DataFrame.mean is deprecated. In a future version, it will default to False. In addition, specifying 'numeric_only=None' is deprecated. Select only valid columns or specify the value of numeric_only to silence this warning.\n",
            "  data.fillna(data.mean(), inplace=True)\n"
          ]
        }
      ]
    },
    {
      "cell_type": "markdown",
      "source": [
        "### Data Normalisation"
      ],
      "metadata": {
        "id": "mDwNSXqFo1D7"
      }
    },
    {
      "cell_type": "code",
      "source": [
        "from sklearn.preprocessing import MinMaxScaler\n",
        "# Initialize the MinMaxScaler\n",
        "scaler = MinMaxScaler()\n",
        "\n",
        "X = data.drop(\"HAI_category\", axis=1)\n",
        "y = data[\"HAI_category\"]\n",
        "\n",
        "# Fit and transform the scaler on the DataFrame\n",
        "X_normalised = scaler.fit_transform(X)\n",
        "\n",
        "# Create a new DataFrame with the normalized values\n",
        "X_normalised = pd.DataFrame(X_normalised, columns=X.columns)\n",
        "\n",
        "# remove duplicate features\n",
        "X_normalised = X_normalised.loc[:,~X_normalised.columns.duplicated()].copy()"
      ],
      "metadata": {
        "id": "5Uwh9Eb6z0Xe"
      },
      "execution_count": null,
      "outputs": []
    },
    {
      "cell_type": "markdown",
      "source": [
        "# Model Building"
      ],
      "metadata": {
        "id": "_g_M9nnBuSP3"
      }
    },
    {
      "cell_type": "markdown",
      "source": [
        "\n",
        "### Train Test Split"
      ],
      "metadata": {
        "id": "Q9UTJ7T1pLCd"
      }
    },
    {
      "cell_type": "code",
      "source": [
        "from sklearn.model_selection import train_test_split\n",
        "\n",
        "X_train, X_test, y_train, y_test = train_test_split(X_normalised, y, test_size=0.2, random_state=42, stratify=y)\n",
        "\n",
        "y_train[y_train == 'HAP'] = 1\n",
        "y_train[y_train == 'No HAI'] = 0\n",
        "y_train = y_train.astype('int')\n",
        "\n",
        "y_test[y_test == 'HAP'] = 1\n",
        "y_test[y_test == 'No HAI'] = 0\n",
        "y_test = y_test.astype('int')"
      ],
      "metadata": {
        "id": "lZgk8TKKpgd8"
      },
      "execution_count": null,
      "outputs": []
    },
    {
      "cell_type": "markdown",
      "source": [
        "### Feature Selection"
      ],
      "metadata": {
        "id": "JRUOzELLUkI7"
      }
    },
    {
      "cell_type": "code",
      "source": [
        "# SMOTE\n",
        "from imblearn.over_sampling import SMOTE\n",
        "\n",
        "X_train_ori = X_train.copy()\n",
        "y_train_ori = y_train.copy()\n",
        "\n",
        "smote = SMOTE(sampling_strategy='minority', random_state=42)\n",
        "X_train, y_train = smote.fit_resample(X_train, y_train)\n",
        "\n",
        "\n",
        "# divide by feature type\n",
        "sensitive_columns = []\n",
        "vital_columns = []\n",
        "ventilator_columns = []\n",
        "\n",
        "for col in X_train.columns:\n",
        "  filtered = False\n",
        "\n",
        "  # filter sensitive column\n",
        "  for c in ['admission_type', 'race', 'gender', 'insurance', 'admission_type', 'admission_location',\n",
        "            'discharge_location', 'language', 'marital_status', 'anchor_year_group', 'died']:\n",
        "    if c in col:\n",
        "      filtered = True\n",
        "      sensitive_columns.append(col)\n",
        "\n",
        "  for c in [\"duration_from_vap_device\", \"vent_\", \"o2_flow\", \"respiratory_rate_\", \"ute_volume\", # minute_volume\n",
        "            \"tidal_volume_\", \"plateau_pressure\", \"peep\", \"fio2\", \"flow_rate\"]:\n",
        "      if c in col:\n",
        "        filtered = True\n",
        "        ventilator_columns.append(col)\n",
        "\n",
        "  # filter vital columns\n",
        "  if not filtered and \"value_\" not in col and \"type_\" not in col:\n",
        "    vital_columns.append(col)\n",
        "\n",
        "\n",
        "# divide training & testing data based on feature type\n",
        "X_train_sensitive = X_train[sensitive_columns]\n",
        "X_train_vital = X_train[vital_columns]\n",
        "X_train_ventilator = X_train[ventilator_columns]\n",
        "X_test_sensitive = X_test[sensitive_columns]\n",
        "X_test_vital = X_test[vital_columns]\n",
        "X_test_ventilator = X_test[ventilator_columns]\n"
      ],
      "metadata": {
        "id": "qceh216WrA9j"
      },
      "execution_count": null,
      "outputs": []
    },
    {
      "cell_type": "markdown",
      "source": [
        "### Evaluate Function"
      ],
      "metadata": {
        "id": "saV4JLGA09Ng"
      }
    },
    {
      "cell_type": "code",
      "source": [
        "from sklearn.metrics import roc_auc_score, accuracy_score, classification_report\n",
        "\n",
        "def evaluate_model(model, X_test, y_test):\n",
        "    # Predict the labels\n",
        "    y_pred = model.predict(X_test)\n",
        "\n",
        "    __evaluate_model(y_pred, y_test)\n",
        "\n",
        "\n",
        "def __evaluate_model(y_pred, y_test):\n",
        "    # Evaluate the model\n",
        "    accuracy = accuracy_score(y_test, y_pred)\n",
        "    print(f'Accuracy of the final model: {accuracy:.2f}')\n",
        "\n",
        "    # Compute the ROC-AUC score\n",
        "    roc_auc = roc_auc_score(y_test, y_pred, multi_class='ovr', average='macro')\n",
        "    print(f'Multi-class ROC-AUC score: {roc_auc:.2f}')\n",
        "\n",
        "    # Print classification report\n",
        "    print(classification_report(y_test, y_pred))"
      ],
      "metadata": {
        "id": "iI-OftY-08kb"
      },
      "execution_count": null,
      "outputs": []
    },
    {
      "cell_type": "markdown",
      "source": [
        "### Random Forest Feature Importance"
      ],
      "metadata": {
        "id": "YvebSq-03dbX"
      }
    },
    {
      "cell_type": "code",
      "source": [
        "def rf_feature_importance(rf, X):\n",
        "  # Get feature importances\n",
        "  importances = rf.feature_importances_\n",
        "\n",
        "  # Create a DataFrame for the importances\n",
        "  feature_importances = pd.DataFrame({'feature': X.columns, 'importance': importances})\n",
        "\n",
        "  # Sort the DataFrame by the importances\n",
        "  feature_importances = feature_importances.sort_values('importance', ascending=False)\n",
        "\n",
        "  # Plotting the feature importances\n",
        "  plt.figure(figsize=(12, 6))\n",
        "  plt.title('Feature Importances')\n",
        "  plt.barh(feature_importances['feature'][:20], feature_importances['importance'][:20])\n",
        "  plt.gca().invert_yaxis()\n",
        "  plt.show()\n",
        "\n",
        "  # You can choose to keep only the most important features based on a certain threshold or top N features\n",
        "  important_features = feature_importances[feature_importances['importance'] > 0.001]['feature']\n",
        "  # important_features = feature_importances['feature'][:20]\n",
        "  return important_features"
      ],
      "metadata": {
        "id": "3BDbSxkM3cOP"
      },
      "execution_count": null,
      "outputs": []
    },
    {
      "cell_type": "markdown",
      "source": [
        "### Train Model"
      ],
      "metadata": {
        "id": "V1nDj6dG3mZW"
      }
    },
    {
      "cell_type": "code",
      "source": [
        "# random forest (ori)\n",
        "from sklearn.ensemble import RandomForestClassifier\n",
        "\n",
        "# Create the Random Forest model\n",
        "rf_ori = RandomForestClassifier(n_estimators=100, random_state=42)\n",
        "\n",
        "# Fit the model\n",
        "rf_ori.fit(X_train_ori, y_train_ori)\n",
        "\n",
        "evaluate_model(rf_ori, X_test, y_test)\n",
        "\n",
        "ori_important_features = rf_feature_importance(rf_ori, X_train_ori)"
      ],
      "metadata": {
        "id": "heeFO4sPwPV8",
        "colab": {
          "base_uri": "https://localhost:8080/",
          "height": 767
        },
        "outputId": "7b3dd9db-0745-49f7-df00-6f6839f2636e"
      },
      "execution_count": null,
      "outputs": [
        {
          "output_type": "stream",
          "name": "stdout",
          "text": [
            "Accuracy of the final model: 0.75\n",
            "Multi-class ROC-AUC score: 0.53\n",
            "              precision    recall  f1-score   support\n",
            "\n",
            "           0       0.75      0.98      0.85      2646\n",
            "           1       0.59      0.07      0.12       926\n",
            "\n",
            "    accuracy                           0.75      3572\n",
            "   macro avg       0.67      0.53      0.49      3572\n",
            "weighted avg       0.71      0.75      0.66      3572\n",
            "\n"
          ]
        },
        {
          "output_type": "display_data",
          "data": {
            "text/plain": [
              "<Figure size 1200x600 with 1 Axes>"
            ],
            "image/png": "[encoded data removed]"
          },
          "metadata": {}
        }
      ]
    },
    {
      "cell_type": "code",
      "source": [
        "len(list(ori_important_features))"
      ],
      "metadata": {
        "id": "jAmxk6H1ymUy",
        "colab": {
          "base_uri": "https://localhost:8080/"
        },
        "outputId": "76dc7c5f-6414-464b-af13-f3e6355a6268"
      },
      "execution_count": null,
      "outputs": [
        {
          "output_type": "execute_result",
          "data": {
            "text/plain": [
              "157"
            ]
          },
          "metadata": {},
          "execution_count": 18
        }
      ]
    },
    {
      "cell_type": "code",
      "source": [
        "# naive bayes (ori)\n",
        "from sklearn.naive_bayes import GaussianNB\n",
        "\n",
        "X_train_ori_filtered = X_train_ori[ori_important_features]\n",
        "X_test_filtered = X_test[ori_important_features]\n",
        "\n",
        "# create model\n",
        "gnb = GaussianNB()\n",
        "\n",
        "# Fit the model\n",
        "gnb.fit(X_train_ori_filtered, y_train_ori)\n",
        "\n",
        "evaluate_model(gnb, X_test_filtered, y_test)"
      ],
      "metadata": {
        "id": "suwpEbRQwPc5",
        "colab": {
          "base_uri": "https://localhost:8080/"
        },
        "outputId": "9cc72d2b-a037-4e79-d2a8-b2047de036d4"
      },
      "execution_count": null,
      "outputs": [
        {
          "output_type": "stream",
          "name": "stdout",
          "text": [
            "Accuracy of the final model: 0.30\n",
            "Multi-class ROC-AUC score: 0.51\n",
            "              precision    recall  f1-score   support\n",
            "\n",
            "           0       0.79      0.08      0.15      2646\n",
            "           1       0.26      0.94      0.41       926\n",
            "\n",
            "    accuracy                           0.30      3572\n",
            "   macro avg       0.53      0.51      0.28      3572\n",
            "weighted avg       0.66      0.30      0.22      3572\n",
            "\n"
          ]
        }
      ]
    },
    {
      "cell_type": "code",
      "source": [
        "# SVM RBF (ori)\n",
        "from sklearn.pipeline import make_pipeline\n",
        "from sklearn.preprocessing import StandardScaler\n",
        "from sklearn.svm import SVC\n",
        "\n",
        "clf = make_pipeline(StandardScaler(), SVC(kernel=\"rbf\", gamma='auto'))\n",
        "clf.fit(X_train_ori_filtered, y_train_ori)\n",
        "\n",
        "evaluate_model(clf, X_test_filtered, y_test)"
      ],
      "metadata": {
        "id": "8ewT0pZaIKaj",
        "colab": {
          "base_uri": "https://localhost:8080/"
        },
        "outputId": "83e93b53-f17e-48a9-bdb4-20bc1929ab28"
      },
      "execution_count": null,
      "outputs": [
        {
          "output_type": "stream",
          "name": "stdout",
          "text": [
            "Accuracy of the final model: 0.74\n",
            "Multi-class ROC-AUC score: 0.51\n",
            "              precision    recall  f1-score   support\n",
            "\n",
            "           0       0.75      0.99      0.85      2646\n",
            "           1       0.64      0.04      0.07       926\n",
            "\n",
            "    accuracy                           0.74      3572\n",
            "   macro avg       0.69      0.51      0.46      3572\n",
            "weighted avg       0.72      0.74      0.65      3572\n",
            "\n"
          ]
        }
      ]
    },
    {
      "cell_type": "code",
      "source": [
        "# RF (undersampling)\n",
        "from imblearn.under_sampling import RandomUnderSampler\n",
        "\n",
        "# Initialize the undersampler\n",
        "rus = RandomUnderSampler(sampling_strategy='auto', random_state=42)\n",
        "\n",
        "# Fit and transform the data\n",
        "X_train_undersampled, y_train_undersampled = rus.fit_resample(X_train_ori_filtered, y_train_ori)\n",
        "\n",
        "# Create the Random Forest model\n",
        "rf_under = RandomForestClassifier(n_estimators=100, random_state=42)\n",
        "\n",
        "# rf_under the model\n",
        "rf_under.fit(X_train_undersampled, y_train_undersampled)\n",
        "\n",
        "evaluate_model(rf_under, X_test_filtered, y_test)"
      ],
      "metadata": {
        "id": "NlN-FdWqw51M",
        "colab": {
          "base_uri": "https://localhost:8080/"
        },
        "outputId": "d994ab70-4afd-42b1-fa15-4e3e3b9a3919"
      },
      "execution_count": null,
      "outputs": [
        {
          "output_type": "stream",
          "name": "stdout",
          "text": [
            "Accuracy of the final model: 0.62\n",
            "Multi-class ROC-AUC score: 0.61\n",
            "              precision    recall  f1-score   support\n",
            "\n",
            "           0       0.81      0.64      0.71      2646\n",
            "           1       0.36      0.58      0.44       926\n",
            "\n",
            "    accuracy                           0.62      3572\n",
            "   macro avg       0.58      0.61      0.58      3572\n",
            "weighted avg       0.69      0.62      0.64      3572\n",
            "\n"
          ]
        }
      ]
    },
    {
      "cell_type": "code",
      "source": [
        "# RF (SMOTE undersampling)\n",
        "# from imblearn.over_sampling import SMOTE\n",
        "\n",
        "# # Initialize SMOTE\n",
        "# smote = SMOTE(sampling_strategy='not minority', random_state=42)\n",
        "\n",
        "# # Fit and transform the data\n",
        "# X_train_undersampled, y_train_undersampled = smote.fit_resample(X_train_ori_filtered, y_train_ori)\n",
        "\n",
        "# # Create the Random Forest model\n",
        "# rf_under = RandomForestClassifier(n_estimators=100, random_state=42)\n",
        "\n",
        "# # rf_under the model\n",
        "# rf_under.fit(X_train_undersampled, y_train_undersampled)\n",
        "\n",
        "# evaluate_model(rf_under, X_test_filtered, y_test)"
      ],
      "metadata": {
        "id": "MpYAbg0nw71k"
      },
      "execution_count": null,
      "outputs": []
    },
    {
      "cell_type": "code",
      "source": [
        "# RF (SMOTE oversampling)\n",
        "from imblearn.over_sampling import SMOTE\n",
        "\n",
        "# Initialize SMOTE\n",
        "smote = SMOTE(sampling_strategy='minority', random_state=42)\n",
        "\n",
        "# Fit and transform the data\n",
        "X_train_oversampled, y_train_oversampled = smote.fit_resample(X_train_ori_filtered, y_train_ori)\n",
        "\n",
        "# Create the Random Forest model\n",
        "rf_over = RandomForestClassifier(n_estimators=100, random_state=42)\n",
        "\n",
        "# rf_under the model\n",
        "rf_over.fit(X_train_oversampled, y_train_oversampled)\n",
        "\n",
        "evaluate_model(rf_over, X_test_filtered, y_test)"
      ],
      "metadata": {
        "id": "_6TypjFdEWaR",
        "colab": {
          "base_uri": "https://localhost:8080/"
        },
        "outputId": "dc218769-16f1-4abf-da97-8b4510c98bb4"
      },
      "execution_count": null,
      "outputs": [
        {
          "output_type": "stream",
          "name": "stdout",
          "text": [
            "Accuracy of the final model: 0.73\n",
            "Multi-class ROC-AUC score: 0.56\n",
            "              precision    recall  f1-score   support\n",
            "\n",
            "           0       0.77      0.91      0.83      2646\n",
            "           1       0.45      0.21      0.29       926\n",
            "\n",
            "    accuracy                           0.73      3572\n",
            "   macro avg       0.61      0.56      0.56      3572\n",
            "weighted avg       0.69      0.73      0.69      3572\n",
            "\n"
          ]
        }
      ]
    },
    {
      "cell_type": "code",
      "source": [
        "# RF (hybrid)\n",
        "from imblearn.under_sampling import RandomUnderSampler\n",
        "from imblearn.over_sampling import SMOTE\n",
        "from imblearn.pipeline import Pipeline\n",
        "\n",
        "# Define the under-sampling and over-sampling methods\n",
        "under = RandomUnderSampler(sampling_strategy={0: 5000}, random_state=0)  # Reduce majority class to 4500\n",
        "over = SMOTE(sampling_strategy={1: 5000}, random_state=0)  # Increase minority class to 4500\n",
        "\n",
        "# Define pipeline\n",
        "pipeline = Pipeline(steps=[('u', under), ('o', over)])\n",
        "\n",
        "# Apply the pipeline to the training data\n",
        "X_train_hybrid_sampled, y_train_hybrid_sampled = pipeline.fit_resample(X_train_ori_filtered, y_train_ori)\n",
        "\n",
        "# Create the Random Forest model\n",
        "rf_hybrid = RandomForestClassifier(n_estimators=100, random_state=42)\n",
        "\n",
        "# rf_under the model\n",
        "rf_hybrid.fit(X_train_hybrid_sampled, y_train_hybrid_sampled)\n",
        "\n",
        "evaluate_model(rf_hybrid, X_test_filtered, y_test)"
      ],
      "metadata": {
        "id": "s7JtoIHx7Hbs",
        "colab": {
          "base_uri": "https://localhost:8080/"
        },
        "outputId": "67a1cf66-d7fe-445e-d98a-3a14923d275b"
      },
      "execution_count": null,
      "outputs": [
        {
          "output_type": "stream",
          "name": "stdout",
          "text": [
            "Accuracy of the final model: 0.67\n",
            "Multi-class ROC-AUC score: 0.61\n",
            "              precision    recall  f1-score   support\n",
            "\n",
            "           0       0.81      0.73      0.77      2646\n",
            "           1       0.39      0.50      0.44       926\n",
            "\n",
            "    accuracy                           0.67      3572\n",
            "   macro avg       0.60      0.61      0.60      3572\n",
            "weighted avg       0.70      0.67      0.68      3572\n",
            "\n"
          ]
        }
      ]
    },
    {
      "cell_type": "code",
      "source": [
        "# Define the under-sampling and over-sampling methods\n",
        "under = RandomUnderSampler(sampling_strategy={0: 8000}, random_state=0)  # Reduce majority class to 8000\n",
        "over = SMOTE(sampling_strategy={1: 5000}, random_state=0)  # Increase minority class to 5000\n",
        "\n",
        "# Define pipeline\n",
        "pipeline = Pipeline(steps=[('u', under), ('o', over)])\n",
        "\n",
        "# Apply the pipeline to the training data\n",
        "X_train_hybrid_sampled, y_train_hybrid_sampled = pipeline.fit_resample(X_train_ori_filtered, y_train_ori)\n",
        "\n",
        "# class weight model\n",
        "class_weights = {0: 5, 1: 8}\n",
        "\n",
        "final_rf_weighted = RandomForestClassifier(n_estimators=100, class_weight=class_weights, random_state=42)\n",
        "final_rf_weighted.fit(X_train_hybrid_sampled, y_train_hybrid_sampled)\n",
        "\n",
        "evaluate_model(final_rf_weighted, X_test_filtered, y_test)"
      ],
      "metadata": {
        "id": "q68gwtt1GNlK",
        "colab": {
          "base_uri": "https://localhost:8080/"
        },
        "outputId": "d441e269-25ef-4d3a-e055-7f0991c8a213"
      },
      "execution_count": null,
      "outputs": [
        {
          "output_type": "stream",
          "name": "stdout",
          "text": [
            "Accuracy of the final model: 0.73\n",
            "Multi-class ROC-AUC score: 0.55\n",
            "              precision    recall  f1-score   support\n",
            "\n",
            "           0       0.76      0.92      0.83      2646\n",
            "           1       0.45      0.18      0.25       926\n",
            "\n",
            "    accuracy                           0.73      3572\n",
            "   macro avg       0.60      0.55      0.54      3572\n",
            "weighted avg       0.68      0.73      0.68      3572\n",
            "\n"
          ]
        }
      ]
    },
    {
      "cell_type": "markdown",
      "source": [
        "### Ensemble Models"
      ],
      "metadata": {
        "id": "12Qd7BT3xHp_"
      }
    },
    {
      "cell_type": "markdown",
      "source": [
        "#### Sensitive Feature Model"
      ],
      "metadata": {
        "id": "xrfTadmNy9sG"
      }
    },
    {
      "cell_type": "code",
      "source": [
        "from sklearn.ensemble import RandomForestClassifier\n",
        "\n",
        "# Create the Random Forest model\n",
        "rf_sensitive = RandomForestClassifier(n_estimators=100, random_state=42)\n",
        "\n",
        "# Fit the model\n",
        "rf_sensitive.fit(X_train_sensitive, y_train)\n",
        "\n",
        "evaluate_model(rf_sensitive, X_test_sensitive, y_test)"
      ],
      "metadata": {
        "id": "QkGo_Lw7rVA3"
      },
      "execution_count": null,
      "outputs": []
    },
    {
      "cell_type": "code",
      "source": [
        "sensitive_features = rf_feature_importance(rf_sensitive, X_train_sensitive)"
      ],
      "metadata": {
        "id": "3jvZGpVn3W2a"
      },
      "execution_count": null,
      "outputs": []
    },
    {
      "cell_type": "markdown",
      "source": [
        "#### Vital Feature Model"
      ],
      "metadata": {
        "id": "8qzWw69f2WdK"
      }
    },
    {
      "cell_type": "code",
      "source": [
        "from sklearn.ensemble import RandomForestClassifier\n",
        "\n",
        "# Create the Random Forest model\n",
        "rf_vital = RandomForestClassifier(n_estimators=100, random_state=42)\n",
        "\n",
        "# Fit the model\n",
        "rf_vital.fit(X_train_vital, y_train)\n",
        "\n",
        "evaluate_model(rf_vital, X_test_vital, y_test)"
      ],
      "metadata": {
        "id": "_AQs8Vp20DkK"
      },
      "execution_count": null,
      "outputs": []
    },
    {
      "cell_type": "code",
      "source": [
        "vital_features = rf_feature_importance(rf_vital, X_train_vital)"
      ],
      "metadata": {
        "id": "Px61az1c4Uo5"
      },
      "execution_count": null,
      "outputs": []
    },
    {
      "cell_type": "markdown",
      "source": [
        "#### Ventilator Feature Model"
      ],
      "metadata": {
        "id": "RXF_rqA82oDz"
      }
    },
    {
      "cell_type": "code",
      "source": [
        "from sklearn.ensemble import RandomForestClassifier\n",
        "\n",
        "# Create the Random Forest model\n",
        "rf_ventilator = RandomForestClassifier(n_estimators=100, random_state=42)\n",
        "\n",
        "# Fit the model\n",
        "rf_ventilator.fit(X_train_ventilator, y_train)\n",
        "\n",
        "evaluate_model(rf_ventilator, X_test_ventilator, y_test)"
      ],
      "metadata": {
        "id": "Vpc1USvi0Dmq"
      },
      "execution_count": null,
      "outputs": []
    },
    {
      "cell_type": "code",
      "source": [
        "ventilator_features = rf_feature_importance(rf_ventilator, X_train_ventilator)"
      ],
      "metadata": {
        "id": "1tOA4LCI4ah7"
      },
      "execution_count": null,
      "outputs": []
    },
    {
      "cell_type": "markdown",
      "source": [
        "### Ensemble Model"
      ],
      "metadata": {
        "id": "_Tw_suLI4ku_"
      }
    },
    {
      "cell_type": "code",
      "source": [
        "# create train & test data for voting\n",
        "pred_ensemble_test = pd.DataFrame({\n",
        "    \"sensitive_soft\": rf_sensitive.predict_proba(X_test_sensitive)[:, 1],\n",
        "    \"sensitive_hard\": rf_sensitive.predict(X_test_sensitive),\n",
        "    \"vital_soft\": rf_vital.predict_proba(X_test_vital)[:, 1],\n",
        "    \"vital_hard\": rf_vital.predict(X_test_vital),\n",
        "    \"ventilator_soft\": rf_ventilator.predict_proba(X_test_ventilator)[:, 1],\n",
        "    \"ventilator_hard\": rf_ventilator.predict(X_test_ventilator),\n",
        "})\n",
        "\n",
        "# create train & test data for voting\n",
        "pred_ensemble_train = pd.DataFrame({\n",
        "    \"sensitive_soft\": rf_sensitive.predict_proba(X_train_sensitive)[:, 1],\n",
        "    \"sensitive_hard\": rf_sensitive.predict(X_train_sensitive),\n",
        "    \"vital_soft\": rf_vital.predict_proba(X_train_vital)[:, 1],\n",
        "    \"vital_hard\": rf_vital.predict(X_train_vital),\n",
        "    \"ventilator_soft\": rf_ventilator.predict_proba(X_train_ventilator)[:, 1],\n",
        "    \"ventilator_hard\": rf_ventilator.predict(X_train_ventilator),\n",
        "})"
      ],
      "metadata": {
        "id": "hvfiI4Ci5Hg0"
      },
      "execution_count": null,
      "outputs": []
    },
    {
      "cell_type": "markdown",
      "source": [
        "#### Simple Voting (Hard)"
      ],
      "metadata": {
        "id": "Dl8IlF9j4k6X"
      }
    },
    {
      "cell_type": "code",
      "source": [
        "y_pred = (pred_ensemble_test[\"sensitive_hard\"] + pred_ensemble_test[\"vital_hard\"] + pred_ensemble_test[\"ventilator_hard\"]) / 3\n",
        "y_pred = np.round(y_pred)\n",
        "__evaluate_model(y_pred, y_test)"
      ],
      "metadata": {
        "id": "V-ZpBiU10Do9"
      },
      "execution_count": null,
      "outputs": []
    },
    {
      "cell_type": "markdown",
      "source": [
        "#### Simple Voting (Soft)"
      ],
      "metadata": {
        "id": "DC13Rop24r3q"
      }
    },
    {
      "cell_type": "code",
      "source": [
        "y_pred = (pred_ensemble_test[\"sensitive_soft\"] + pred_ensemble_test[\"vital_soft\"] + pred_ensemble_test[\"ventilator_soft\"]) / 3\n",
        "y_pred = np.round(y_pred)\n",
        "__evaluate_model(y_pred, y_test)"
      ],
      "metadata": {
        "id": "Tyo1DSq8rVLT"
      },
      "execution_count": null,
      "outputs": []
    },
    {
      "cell_type": "markdown",
      "source": [
        "#### Weighted Voting (SVM)"
      ],
      "metadata": {
        "id": "Vy72YVXR4yCC"
      }
    },
    {
      "cell_type": "code",
      "source": [
        "from sklearn.pipeline import make_pipeline\n",
        "from sklearn.preprocessing import StandardScaler\n",
        "from sklearn.svm import SVC\n",
        "\n",
        "clf = make_pipeline(StandardScaler(), SVC(kernel=\"rbf\", gamma='auto'))\n",
        "clf.fit(pred_ensemble_train, y_train)\n",
        "\n",
        "evaluate_model(clf, pred_ensemble_test, y_test)"
      ],
      "metadata": {
        "id": "3mvq-nzPrVTm"
      },
      "execution_count": null,
      "outputs": []
    },
    {
      "cell_type": "markdown",
      "source": [
        "#### Weighted Voting (RF)"
      ],
      "metadata": {
        "id": "9C7OQ5oS5buK"
      }
    },
    {
      "cell_type": "code",
      "source": [
        "from sklearn.ensemble import RandomForestClassifier\n",
        "\n",
        "# Create the Random Forest model\n",
        "rf_ensemble = RandomForestClassifier(n_estimators=100, random_state=42)\n",
        "\n",
        "# Fit the model\n",
        "rf_ensemble.fit(pred_ensemble_train, y_train)\n",
        "\n",
        "evaluate_model(rf_ensemble, pred_ensemble_test, y_test)"
      ],
      "metadata": {
        "id": "kbEYohRq5bL3"
      },
      "execution_count": null,
      "outputs": []
    },
    {
      "cell_type": "markdown",
      "source": [
        "#### Important Features + Vote"
      ],
      "metadata": {
        "id": "wxtUekVQ43PP"
      }
    },
    {
      "cell_type": "code",
      "source": [
        "X_ensemble_train = {}\n",
        "X_ensemble_test = {}\n",
        "\n",
        "# add important sensitive features\n",
        "for col in sensitive_features.unique():\n",
        "  X_ensemble_train[col] = list(X_train[col])\n",
        "  X_ensemble_test[col] = list(X_test[col])\n",
        "\n",
        "# add important vital features\n",
        "for col in vital_features.unique():\n",
        "  X_ensemble_train[col] = list(X_train[col])\n",
        "  X_ensemble_test[col] = list(X_test[col])\n",
        "\n",
        "# add important ventilator features\n",
        "for col in ventilator_features.unique():\n",
        "  X_ensemble_train[col] = list(X_train[col])\n",
        "  X_ensemble_test[col] = list(X_test[col])\n",
        "\n",
        "# voting result\n",
        "for col in pred_ensemble_train.columns:\n",
        "  # print(col, len(pred_ensemble_train[col]))\n",
        "  X_ensemble_train[col] = list(pred_ensemble_train[col])\n",
        "  X_ensemble_test[col] = list(pred_ensemble_test[col])\n",
        "\n",
        "\n",
        "X_ensemble_train = pd.DataFrame(X_ensemble_train)\n",
        "X_ensemble_test = pd.DataFrame(X_ensemble_test)\n",
        "\n",
        "X_ensemble_train"
      ],
      "metadata": {
        "id": "Jh1T88XS42rx"
      },
      "execution_count": null,
      "outputs": []
    },
    {
      "cell_type": "markdown",
      "source": [
        "Classifier"
      ],
      "metadata": {
        "id": "WClqhGDZyTcC"
      }
    },
    {
      "cell_type": "code",
      "source": [
        "import xgboost as xgb\n",
        "\n",
        "xgb_model = xgb.XGBClassifier(objective=\"binary:logistic\", random_state=42)\n",
        "xgb_model.fit(X_ensemble_train, y_train)\n",
        "\n",
        "evaluate_model(xgb_model, X_ensemble_test, y_test)"
      ],
      "metadata": {
        "id": "U29flO2awC2M"
      },
      "execution_count": null,
      "outputs": []
    },
    {
      "cell_type": "code",
      "source": [
        "from sklearn.pipeline import make_pipeline\n",
        "from sklearn.preprocessing import StandardScaler\n",
        "from sklearn.svm import SVC\n",
        "\n",
        "clf = make_pipeline(StandardScaler(), SVC(kernel=\"rbf\", gamma='auto'))\n",
        "clf.fit(X_ensemble_train, y_train)\n",
        "\n",
        "evaluate_model(clf, X_ensemble_test, y_test)"
      ],
      "metadata": {
        "id": "8oHdNbImrBGF"
      },
      "execution_count": null,
      "outputs": []
    }
  ]
}