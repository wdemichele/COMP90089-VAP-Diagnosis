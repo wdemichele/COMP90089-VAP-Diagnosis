{
  "nbformat": 4,
  "nbformat_minor": 0,
  "metadata": {
    "colab": {
      "provenance": []
    },
    "kernelspec": {
      "name": "python3",
      "display_name": "Python 3"
    },
    "language_info": {
      "name": "python"
    }
  },
  "cells": [
    {
      "cell_type": "markdown",
      "source": [
        "# Identifying Patients At Risk of Catheter-associated Urinary Tract Infections (CAUTIs) Using MIMIC-IV\n",
        "\n",
        "## Table of Contents\n",
        "1. [Introduction](#introduction)\n",
        "2. [Data Retrieval](#data-retrieval)\n",
        "3. [Data Cleaning](#data-cleaning)\n",
        "4. [Feature Engineering](#feature-engineering)\n",
        "5. [Exploratory Data Analysis](#exploratory-data-analysis)\n",
        "6. [Model Selection and Training](#model-selection-and-training)\n",
        "7. [Validation and Testing](#validation-and-testing)\n",
        "8. [Results](#results)\n",
        "9. [Conclusion](#conclusion)\n",
        "\n"
      ],
      "metadata": {
        "id": "z45oly531B1t"
      }
    },
    {
      "cell_type": "markdown",
      "source": [
        "## Data Retrieval\n",
        "1. **Connect to the Database**:\n",
        "    - Use SQL queries to access relevant tables.\n",
        "2. **Select Relevant Tables**:\n",
        "    - `ADMISSIONS`, `PATIENTS`, `DIAGNOSES_ICD`, `PROCEDURES_ICD`, etc.\n",
        "3. **Extract Relevant Fields**:\n",
        "    - Demographics, admission type, ICD codes, procedure codes, etc."
      ],
      "metadata": {
        "id": "Adhu2jj-4725"
      }
    },
    {
      "cell_type": "code",
      "execution_count": null,
      "metadata": {
        "id": "yTPN6NQ3wrSp"
      },
      "outputs": [],
      "source": [
        "# Import libraries\n",
        "from datetime import timedelta\n",
        "import os\n",
        "\n",
        "import numpy as np\n",
        "import pandas as pd\n",
        "import re\n",
        "import matplotlib.pyplot as plt\n",
        "import matplotlib.dates as mdates\n",
        "\n",
        "from IPython.display import display, HTML, Image\n",
        "%matplotlib inline\n",
        "\n",
        "plt.style.use('ggplot')\n",
        "plt.rcParams.update({'font.size': 20})\n",
        "\n",
        "# Access data using Google BigQuery.\n",
        "from google.colab import auth\n",
        "from google.cloud import bigquery\n",
        "\n",
        "# authenticate\n",
        "auth.authenticate_user()\n",
        "\n",
        "# Set up environment variables\n",
        "project_id = 'eighth-arbor-396212'\n",
        "\n",
        "os.environ[\"GOOGLE_CLOUD_PROJECT\"] = project_id\n",
        "\n",
        "# Read data from BigQuery into pandas dataframes.\n",
        "def run_query(query, project_id=project_id):\n",
        "  return pd.io.gbq.read_gbq(\n",
        "      query,\n",
        "      project_id=project_id,\n",
        "      dialect='standard')\n",
        "\n",
        "# set the dataset\n",
        "dataset = 'mimiciv'\n"
      ]
    },
    {
      "cell_type": "markdown",
      "source": [
        "Identifying patients at risk for Catheter-associated urinary tract infections (CAUTIs) involves understanding both clinical and non-clinical risk factors. Here's a list of criteria that can be used to pinpoint patients at higher risk:\n",
        "\n",
        "### Clinical Factors:\n",
        "\n",
        "1. **Duration of Catheterization**:\n",
        "    - The longer the catheter remains in place, the higher the risk of infection.\n",
        "\n",
        "2. **Previous UTIs**:\n",
        "    - Patients with a history of urinary tract infections (UTIs) might be more susceptible.\n",
        "\n",
        "3. **Recent Surgical Procedures**:\n",
        "    - Especially urological surgeries or surgeries where a catheter was necessary.\n",
        "\n",
        "4. **Abnormal Urinary Tract Structure or Function**:\n",
        "    - Obstructions, congenital anomalies, or urinary retention can increase CAUTI risk.\n",
        "\n",
        "5. **Compromised Immune System**:\n",
        "    - Patients with conditions like HIV, diabetes, or those receiving immunosuppressants are more susceptible to infections, including CAUTIs.\n",
        "\n",
        "6. **Age**:\n",
        "    - Older adults, especially those in long-term care facilities, are at increased risk.\n",
        "\n",
        "7. **Sex**:\n",
        "    - Women are at higher risk for UTIs in general, but this can translate to increased risk for CAUTIs, especially in post-surgical contexts.\n",
        "\n",
        "8. **Recent Antibiotic Usage**:\n",
        "    - Can disrupt the normal flora, making patients more susceptible.\n",
        "\n"
      ],
      "metadata": {
        "id": "zzkfE6Xl5WXT"
      }
    },
    {
      "cell_type": "code",
      "source": [
        "def add_query_labels(query, terms, label=\"long_title\"):\n",
        "\n",
        "    # Create the SQL WHERE clause using the list of terms\n",
        "    where_clauses = [f\"lower({label}) LIKE '%{term}%'\" for term in terms]\n",
        "    where_combined = \" OR \".join(where_clauses)\n",
        "\n",
        "    # Combine all parts to generate the final SQL query\n",
        "    sql_query = f\"{query} WHERE {where_combined}\"\n",
        "\n",
        "    return sql_query\n",
        "\n"
      ],
      "metadata": {
        "colab": {
          "base_uri": "https://localhost:8080/",
          "height": 70
        },
        "id": "GrMrZJwRccT9",
        "outputId": "3837fa51-6f0d-4dc5-8a08-bd37d704cc81"
      },
      "execution_count": 4,
      "outputs": [
        {
          "output_type": "execute_result",
          "data": {
            "text/plain": [
              "\"SELECT icd_code, long_title FROM `physionet-data.mimiciv_hosp.d_icd_procedures`\\n WHERE lower(long_title) LIKE '%bladder%' OR lower(long_title) LIKE '%kidney%' OR lower(long_title) LIKE '%prostate%' OR lower(long_title) LIKE '%penile%' OR lower(long_title) LIKE '%penis%' OR lower(long_title) LIKE '%ureter%' OR lower(long_title) LIKE '%urethra%' OR lower(long_title) LIKE '%cystoscopy%' OR lower(long_title) LIKE '%nephrectomy%' OR lower(long_title) LIKE '%lithotripsy%' OR lower(long_title) LIKE '%renal%' OR lower(long_title) LIKE '%orchidectomy%' OR lower(long_title) LIKE '%orchiectomy%' OR lower(long_title) LIKE '%vasectomy%'\""
            ],
            "application/vnd.google.colaboratory.intrinsic+json": {
              "type": "string"
            }
          },
          "metadata": {},
          "execution_count": 4
        }
      ]
    },
    {
      "cell_type": "code",
      "source": [
        "def generate_sql_with_ctes(cte_dict, main_query):\n",
        "    \"\"\"Generate a SQL query with CTEs.\"\"\"\n",
        "\n",
        "    # Convert the CTEs into a list of formatted strings\n",
        "    cte_strings = [f\"{name} AS ({query})\" for name, query in cte_dict.items()]\n",
        "\n",
        "    # Join the CTEs with commas and then prepend WITH only once\n",
        "    ctes_combined = \"WITH\\n\" + ',\\n'.join(cte_strings)\n",
        "\n",
        "    # Combine the formatted CTEs with the main query\n",
        "    return ctes_combined + '\\n' + main_query"
      ],
      "metadata": {
        "id": "LPB2Mrhf_Ay5"
      },
      "execution_count": 1,
      "outputs": []
    },
    {
      "cell_type": "code",
      "source": [
        "icd_diagnoses = \"\"\"SELECT *\n",
        "FROM `physionet-data.mimiciv_hosp.diagnoses_icd` d\n",
        "INNER JOIN ICDCodes c\n",
        "  ON c.icd_code = d.icd_code\n",
        "INNER JOIN `physionet-data.mimiciv_hosp.admissions` a\n",
        "  ON d.hadm_id = a.hadm_id\n",
        "INNER JOIN `physionet-data.mimiciv_hosp.patients` p\n",
        "  ON d.subject_id = p.subject_id\n",
        "LIMIT 1000\"\"\"\n"
      ],
      "metadata": {
        "id": "y0_3sdN59vhb"
      },
      "execution_count": null,
      "outputs": []
    },
    {
      "cell_type": "code",
      "source": [
        "cauti_cte = {}\n",
        "\n",
        "cauti_icd_codes = \"\"\"SELECT *\n",
        "FROM `physionet-data.mimiciv_hosp.d_icd_diagnoses`\n",
        "WHERE lower(long_title) LIKE '%urinary catheter%' AND lower(long_title) LIKE '%infection%'\"\"\"\n",
        "\n",
        "cauti_cte[\"ICDCodes\"] = cauti_icd_codes\n",
        "\n",
        "cauti_icd_diagnoses = generate_sql_with_ctes(cauti_cte, icd_diagnoses)"
      ],
      "metadata": {
        "id": "c3rjWBKI8yp6"
      },
      "execution_count": null,
      "outputs": []
    },
    {
      "cell_type": "markdown",
      "source": [
        "1. **Duration of Catheterization**:\n",
        "    - The longer the catheter remains in place, the higher the risk of infection."
      ],
      "metadata": {
        "id": "7lF8s-_3gqvD"
      }
    },
    {
      "cell_type": "code",
      "source": [],
      "metadata": {
        "id": "p0hCcmrxgrY9"
      },
      "execution_count": null,
      "outputs": []
    },
    {
      "cell_type": "markdown",
      "source": [
        "2. **Previous UTIs**:\n",
        "    - Patients with a history of urinary tract infections (UTIs) might be more susceptible."
      ],
      "metadata": {
        "id": "2vb3H6fATi8x"
      }
    },
    {
      "cell_type": "code",
      "source": [
        "uti_cte = {}\n",
        "\n",
        "uti_icd_codes = \"\"\"SELECT *\n",
        "FROM `physionet-data.mimiciv_hosp.d_icd_diagnoses`\n",
        "WHERE lower(long_title) LIKE '%urinary%tract%' AND lower(long_title) LIKE '%infection%'\n",
        "\"\"\"\n",
        "\n",
        "uti_cte[\"ICDCodes\"] = uti_icd_codes\n",
        "\n",
        "uti_icd_diagnoses = generate_sql_with_ctes(uti_cte, icd_diagnoses)\n"
      ],
      "metadata": {
        "id": "QSzSYKum5ofN"
      },
      "execution_count": null,
      "outputs": []
    },
    {
      "cell_type": "markdown",
      "source": [
        "3. **Recent Surgical Procedures**:\n",
        "    - Especially urological surgeries or surgeries where a catheter was necessary."
      ],
      "metadata": {
        "id": "_2_-crh4esyL"
      }
    },
    {
      "cell_type": "code",
      "source": [
        "urological_cte = {}\n",
        "\n",
        "urological_terms = [\"bladder\", \"kidney\", \"prostate\", \"penile\", \"penis\",\n",
        "                    \"ureter\", \"urethra\", \"cystoscopy\", \"nephrectomy\",\n",
        "                    \"lithotripsy\", \"renal\", \"orchidectomy\", \"orchiectomy\", \"vasectomy\"]\n",
        "\n",
        "\n",
        "urological_procedures = add_query_labels(\"SELECT icd_code, long_title FROM `physionet-data.mimiciv_hosp.d_icd_procedures`\", urological_terms)\n",
        "\n",
        "urological_procedure_patients = \"\"\"SELECT DISTINCT p.subject_id, p.hadm_id\n",
        "FROM `physionet-data.mimiciv_hosp.procedures_icd` p\n",
        "INNER JOIN UrologicalProcedures u\n",
        "  ON p.icd_code = u.icd_code\"\"\"\n",
        "\n",
        "urological_cte[\"UrologicalProcedures\"] = urological_procedures\n",
        "\n",
        "urological_procedure_patients = generate_sql_with_ctes(urological_cte, urological_procedure_patients)\n",
        "\n",
        "urological_procedure_patients"
      ],
      "metadata": {
        "colab": {
          "base_uri": "https://localhost:8080/",
          "height": 87
        },
        "id": "uXRhZG3LdxEq",
        "outputId": "6c0e9ae8-35de-4aa3-d0dd-07e977caf1ae"
      },
      "execution_count": 6,
      "outputs": [
        {
          "output_type": "execute_result",
          "data": {
            "text/plain": [
              "\"WITH\\nICDCodes AS (SELECT icd_code, long_title FROM `physionet-data.mimiciv_hosp.d_icd_procedures`\\n WHERE lower(long_title) LIKE '%bladder%' OR lower(long_title) LIKE '%kidney%' OR lower(long_title) LIKE '%prostate%' OR lower(long_title) LIKE '%penile%' OR lower(long_title) LIKE '%penis%' OR lower(long_title) LIKE '%ureter%' OR lower(long_title) LIKE '%urethra%' OR lower(long_title) LIKE '%cystoscopy%' OR lower(long_title) LIKE '%nephrectomy%' OR lower(long_title) LIKE '%lithotripsy%' OR lower(long_title) LIKE '%renal%' OR lower(long_title) LIKE '%orchidectomy%' OR lower(long_title) LIKE '%orchiectomy%' OR lower(long_title) LIKE '%vasectomy%')\\nSELECT DISTINCT p.subject_id, p.hadm_id\\nFROM `physionet-data.mimiciv_hosp.procedures_icd` p\\nINNER JOIN UrologicalProcedures u\\n  ON p.icd_code = u.icd_code\""
            ],
            "application/vnd.google.colaboratory.intrinsic+json": {
              "type": "string"
            }
          },
          "metadata": {},
          "execution_count": 6
        }
      ]
    },
    {
      "cell_type": "markdown",
      "source": [
        "4. **Abnormal Urinary Tract Structure or Function**:\n",
        "    - Obstructions, congenital anomalies, or urinary retention can increase CAUTI risk.\n"
      ],
      "metadata": {
        "id": "X2RcAzIafH5e"
      }
    },
    {
      "cell_type": "code",
      "source": [
        "urinary_abnorm_cte  = {}\n",
        "\n",
        "urinary_abnorm_terms = [\"obstruction\", \"urinary retention\", \"congenital anomaly\",\n",
        "                    \"vesicoureteral reflux\", \"bladder diverticulum\"]\n",
        "\n",
        "\n",
        "urinary_abnormality_diagnoses = add_query_labels(\"SELECT icd_code, long_title FROM `physionet-data.mimiciv_hosp.d_icd_diagnoses`\", urinary_abnorm_terms)\n",
        "\n",
        "urinary_abnorm_cte[\"ICDCodes\"] = urological_procedures\n",
        "\n",
        "urological_procedure_patients = generate_sql_with_ctes(urinary_abnorm_cte, icd_diagnoses)\n",
        "\n",
        "urological_procedure_patients"
      ],
      "metadata": {
        "id": "1Z7CYkYOfJBR"
      },
      "execution_count": null,
      "outputs": []
    },
    {
      "cell_type": "markdown",
      "source": [
        "5. **Compromised Immune System**:\n",
        "    - Patients with conditions like HIV, diabetes, or those receiving immunosuppressants are more susceptible to infections, including CAUTIs."
      ],
      "metadata": {
        "id": "M8eOBXclgn1Y"
      }
    },
    {
      "cell_type": "code",
      "source": [
        "immune_compromised_cte  = {}\n",
        "\n",
        "immune_compromised_terms = [\n",
        "    \"hiv\", \"aids\", \"diabetes\", \"organ transplant\", \"leukemia\", \"lymphoma\",\n",
        "    \"cancer\", \"chronic kidney disease\", \"end-stage renal disease\", \"splenectomy\",\n",
        "    \"bone marrow transplant\", \"malnutrition\", \"congenital immune deficiencies\"\n",
        "]\n",
        "\n",
        "immune_compromised_diagnoses = add_query_labels(\"SELECT icd_code, long_title FROM `physionet-data.mimiciv_hosp.d_icd_diagnoses`\", urinary_abnorm_terms)\n",
        "\n",
        "immune_compromised_cte[\"ICDCodes\"] = immune_compromised_diagnoses\n",
        "\n",
        "immune_compromised_patients = generate_sql_with_ctes(immune_compromised_cte, icd_diagnoses)\n"
      ],
      "metadata": {
        "id": "gpJXQ4ZfgoKa"
      },
      "execution_count": null,
      "outputs": []
    },
    {
      "cell_type": "code",
      "source": [
        "immunosuppressive_prescriptions = [\n",
        "    \"prednisone\", \"cyclosporine\", \"tacrolimus\", \"mycophenolate\", \"azathioprine\",\n",
        "    \"sirolimus\", \"rapamycin\", \"methotrexate\", \"rituximab\", \"basiliximab\", \"antithymocyte globulin\"\n",
        "]\n",
        "\n",
        "immunosuppressive_prescription_patients = add_query_labels(\"SELECT DISTINCT p.subject_id, p.hadm_id, p.drug_name_generic FROM `physionet-data.mimiciv_hosp.prescriptions`\", immunosuppressive_prescriptions)\n"
      ],
      "metadata": {
        "id": "BCT5eMCKlHIt"
      },
      "execution_count": null,
      "outputs": []
    },
    {
      "cell_type": "markdown",
      "source": [
        "8. **Recent Antibiotic Usage**:\n",
        "    - Can disrupt the normal flora, making patients more susceptible."
      ],
      "metadata": {
        "id": "Y_DTMRQbgok7"
      }
    },
    {
      "cell_type": "code",
      "source": [],
      "metadata": {
        "id": "3hfl443ggo4W"
      },
      "execution_count": null,
      "outputs": []
    },
    {
      "cell_type": "markdown",
      "source": [
        "### Non-Clinical Factors:\n",
        "\n",
        "1. **Catheter Care and Handling**:\n",
        "    - Improper care, multiple manipulations, or frequent disconnections can increase risk.\n",
        "\n",
        "2. **Type of Catheter Material**:\n",
        "    - Some materials might be more susceptible to biofilm formation, which can harbor bacteria.\n",
        "\n",
        "3. **Catheter Insertion Technique**:\n",
        "    - Non-sterile technique or inexperienced personnel can increase infection risk.\n",
        "\n",
        "4. **Reason for Catheterization**:\n",
        "    - Indwelling catheters placed for convenience rather than medical necessity might increase the risk.\n",
        "\n",
        "5. **Location of Care**:\n",
        "    - ICU stays, long-term care facilities, or certain wards with higher reported cases.\n",
        "\n",
        "6. **Duration of Hospital Stay**:\n",
        "    - Longer hospital stays can increase the risk due to prolonged exposure to hospital pathogens.\n",
        "\n",
        "### Monitoring and Testing:\n",
        "\n",
        "1. **Presence of Symptoms**:\n",
        "    - Fever, cloudy or bloody urine, increased urgency or frequency, discomfort or pain.\n",
        "\n",
        "2. **Urine Culture & Sensitivity**:\n",
        "    - A positive culture specifically from a catheter specimen indicates a CAUTI. However, a negative culture does not rule out an infection, especially if the patient is on antibiotics.\n",
        "\n",
        "3. **Increased Inflammatory Markers**:\n",
        "    - Elevations in C-reactive protein (CRP), erythrocyte sedimentation rate (ESR), or procalcitonin might suggest an infection.\n",
        "\n",
        "### Behavioral:\n",
        "\n",
        "1. **Incontinence**:\n",
        "    - The presence of incontinence can make maintaining catheter hygiene challenging.\n",
        "\n",
        "2. **Catheter Dependence**:\n",
        "    - Patients who are dependent on a catheter for long durations, due to conditions like paralysis, have an inherently higher risk.\n",
        "\n",
        "By collecting data on these criteria, you can more effectively model and predict which patients are at a higher risk for CAUTIs. Remember, while some of these factors are directly linked to CAUTI risk, others might serve as proxies, so continuous validation against actual CAUTI cases is crucial."
      ],
      "metadata": {
        "id": "58D8x8ij5o1P"
      }
    },
    {
      "cell_type": "code",
      "source": [],
      "metadata": {
        "id": "LoGJH2Um5qMy"
      },
      "execution_count": null,
      "outputs": []
    },
    {
      "cell_type": "markdown",
      "source": [
        "\n",
        "\n",
        "## Data Cleaning\n",
        "1. **Handle Missing Data**:\n",
        "    - Imputation or deletion based on the nature of the missingness.\n",
        "2. **Filter Data**:\n",
        "    - Select patients with urinary catheters.\n",
        "    - Identify confirmed CAUTI cases based on ICD codes.\n",
        "3. **Data Transformation**:\n",
        "    - Convert categorical variables into numerical formats (e.g., one-hot encoding).\n",
        "    - Normalize continuous variables.\n",
        "\n",
        "## Feature Engineering\n",
        "1. **Extract Clinical Features**:\n",
        "    - Length of hospital stay, prior admissions, co-morbidities, etc.\n",
        "2. **Time Since Catheter Insertion**:\n",
        "    - Calculate time since catheter insertion to the point of infection or discharge.\n",
        "3. **Patient History**:\n",
        "    - Prior history of UTIs, other infections, surgeries, etc.\n",
        "\n",
        "## Exploratory Data Analysis\n",
        "1. **Univariate Analysis**:\n",
        "    - Distribution of age, gender, and other demographics.\n",
        "    - Distribution of length of hospital stay, time since catheter insertion, etc.\n",
        "2. **Bivariate Analysis**:\n",
        "    - Relationship between CAUTIs and potential predictors.\n",
        "3. **Visualizations**:\n",
        "    - Use plots like histograms, box plots, scatter plots to visualize distributions and relationships.\n",
        "\n",
        "## Model Selection and Training\n",
        "1. **Model Choices**:\n",
        "    - Logistic Regression, Random Forest, Gradient Boosted Trees, Neural Networks, etc.\n",
        "2. **Model Training**:\n",
        "    - Split the data into training, validation, and test sets.\n",
        "    - Train models on the training set using various hyperparameters.\n",
        "\n",
        "## Validation and Testing\n",
        "1. **Model Validation**:\n",
        "    - Use the validation set to tune hyperparameters and avoid overfitting.\n",
        "2. **Performance Metrics**:\n",
        "    - Accuracy, precision, recall, F1 score, ROC-AUC, etc.\n",
        "3. **Model Testing**:\n",
        "    - Evaluate final model performance on the test set.\n",
        "\n",
        "## Results\n",
        "- Discuss the performance of the best model.\n",
        "- Highlight important features/predictors.\n",
        "\n",
        "## Conclusion\n",
        "- Summarize findings and their implications.\n",
        "- Suggestions for further research or improvements.\n",
        "\n"
      ],
      "metadata": {
        "id": "7HpZjKNx3s8B"
      }
    },
    {
      "cell_type": "code",
      "source": [],
      "metadata": {
        "id": "Lj-0JViS3sE7"
      },
      "execution_count": null,
      "outputs": []
    }
  ]
}