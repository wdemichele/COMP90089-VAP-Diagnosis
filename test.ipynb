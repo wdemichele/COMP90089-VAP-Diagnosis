{
 "cells": [
  {
   "cell_type": "code",
   "execution_count": 1,
   "metadata": {},
   "outputs": [],
   "source": [
    "import pandas as pd\n",
    "\n",
    "vital_signs = pd.read_csv('vital_signs_df.csv') "
   ]
  },
  {
   "cell_type": "code",
   "execution_count": 2,
   "metadata": {},
   "outputs": [
    {
     "data": {
      "text/plain": [
       "Index(['subject_id', 'hadm_id', 'stay_id', 'avgheartrate', 'minheartrate',\n",
       "       'maxheartrate', 'stddevheartrate', 'varianceheartrate',\n",
       "       'percentile_cont_0_25heartrate', 'percentile_cont_0_75heartrate',\n",
       "       'countheartrate', 'time_with_Tachycardia', 'time_with_Bradycardia',\n",
       "       'episodes_of_Tachycardia', 'episodes_of_Bradycardia',\n",
       "       'avgbloodpressure', 'minbloodpressure', 'maxbloodpressure',\n",
       "       'stddevbloodpressure', 'variancebloodpressure',\n",
       "       'percentile_cont_0_25bloodpressure',\n",
       "       'percentile_cont_0_75bloodpressure', 'countbloodpressure',\n",
       "       'time_with_Hypertension', 'time_with_Hypotension',\n",
       "       'episodes_of_Hypertension', 'episodes_of_Hypotension',\n",
       "       'avgrespiratoryrate', 'minrespiratoryrate', 'maxrespiratoryrate',\n",
       "       'stddevrespiratoryrate', 'variancerespiratoryrate',\n",
       "       'percentile_cont_0_25respiratoryrate',\n",
       "       'percentile_cont_0_75respiratoryrate', 'countrespiratoryrate',\n",
       "       'time_with_Tachypnea', 'time_with_Bradypnea', 'episodes_of_Tachypnea',\n",
       "       'episodes_of_Bradypnea', 'avgtemperature', 'mintemperature',\n",
       "       'maxtemperature', 'stddevtemperature', 'variancetemperature',\n",
       "       'percentile_cont_0_25temperature', 'percentile_cont_0_75temperature',\n",
       "       'counttemperature', 'time_with_Hyperthermia', 'time_with_Hypothermia',\n",
       "       'episodes_of_Hyperthermia', 'episodes_of_Hypothermia', 'subject_id_1',\n",
       "       'hadm_id_1', 'stay_id_1'],\n",
       "      dtype='object')"
      ]
     },
     "execution_count": 2,
     "metadata": {},
     "output_type": "execute_result"
    }
   ],
   "source": [
    "vital_signs.columns"
   ]
  },
  {
   "cell_type": "code",
   "execution_count": 4,
   "metadata": {},
   "outputs": [],
   "source": [
    "vital_signs.drop(['subject_id_1', 'hadm_id_1', 'stay_id_1'], axis=1, inplace=True)"
   ]
  },
  {
   "cell_type": "code",
   "execution_count": 6,
   "metadata": {},
   "outputs": [],
   "source": [
    "vital_signs.to_csv('vital_signs_df.csv', index=False)"
   ]
  }
 ],
 "metadata": {
  "kernelspec": {
   "display_name": "MLHealth",
   "language": "python",
   "name": "python3"
  },
  "language_info": {
   "codemirror_mode": {
    "name": "ipython",
    "version": 3
   },
   "file_extension": ".py",
   "mimetype": "text/x-python",
   "name": "python",
   "nbconvert_exporter": "python",
   "pygments_lexer": "ipython3",
   "version": "3.11.4"
  }
 },
 "nbformat": 4,
 "nbformat_minor": 2
}
