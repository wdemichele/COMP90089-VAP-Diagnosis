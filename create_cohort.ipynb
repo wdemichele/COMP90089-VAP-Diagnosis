{
 "cells": [
  {
   "cell_type": "code",
   "execution_count": 55,
   "metadata": {},
   "outputs": [],
   "source": [
    "import pandas as pd\n",
    "import os\n",
    "\n",
    "# Set the directory where the CSV files are stored\n",
    "directory_path = 'patient_cohort'\n",
    "\n",
    "# List of file names\n",
    "file_names = [\n",
    "    'central_line_patients',\n",
    "    'hai_positive_patients',\n",
    "    'invasive_device_cauti',\n",
    "    'invasive_device_clabsi',\n",
    "    'invasive_device_vap',\n",
    "    'patient_detail',\n",
    "    'lab_results_cauti',\n",
    "    'lab_results_clabsi',\n",
    "    'lab_results_vap',\n",
    "    'patient_immune_compromised',\n",
    "    'patient_immunosuppressant_drugs',\n",
    "    'patient_recent_surgeries',\n",
    "    'patient_vital_signs',\n",
    "    'urinary_catheter_patients',\n",
    "    'ventilator_patients'\n",
    "]\n",
    "\n",
    "# Dictionary to store dataframes\n",
    "dataframes = {}\n",
    "\n",
    "# Loop to read each file and store it in a DataFrame\n",
    "for file_name in file_names:\n",
    "    file_path = os.path.join(directory_path, f\"{file_name}.csv\")\n",
    "    dataframes[file_name] = pd.read_csv(file_path)\n",
    "\n",
    "# Now, you can access each DataFrame using its name. For example:\n",
    "df_central_line_patients = dataframes['central_line_patients']\n"
   ]
  },
  {
   "cell_type": "code",
   "execution_count": 56,
   "metadata": {},
   "outputs": [],
   "source": [
    "import pandas as pd\n",
    "import numpy as np\n",
    "\n",
    "# Assume central_line_patients, urinary_catheter_patients, and ventilator_patients are loaded as DataFrames\n",
    "central_line_patients = dataframes['central_line_patients']\n",
    "urinary_catheter_patients = dataframes['urinary_catheter_patients']\n",
    "ventilator_patients = dataframes['ventilator_patients']\n",
    "\n",
    "# Replace NaN values in 'stay_id' with a placeholder (-1)\n",
    "central_line_patients['stay_id'].fillna(-1, inplace=True)\n",
    "urinary_catheter_patients['stay_id'].fillna(-1, inplace=True)\n",
    "ventilator_patients['stay_id'].fillna(-1, inplace=True)\n",
    "\n",
    "# Start by making copies of the original DataFrames with only the required columns\n",
    "central_line_df = central_line_patients[['subject_id', 'hadm_id', 'stay_id']].copy()\n",
    "urinary_catheter_df = urinary_catheter_patients[['subject_id', 'hadm_id', 'stay_id']].copy()\n",
    "ventilator_df = ventilator_patients[['subject_id', 'hadm_id', 'stay_id']].copy()\n",
    "\n",
    "# Add the 'InvasiveDevice' column to each DataFrame\n",
    "central_line_df['InvasiveDevice'] = 'Central Line'\n",
    "urinary_catheter_df['InvasiveDevice'] = 'Urinary Catheter'\n",
    "ventilator_df['InvasiveDevice'] = 'Ventilator'\n",
    "\n",
    "# Assuming central_line_df, urinary_catheter_df, and ventilator_df are your original DataFrames\n",
    "dfs = [central_line_df, urinary_catheter_df, ventilator_df]\n",
    "names = ['Central Line', 'Urinary Catheter', 'Ventilator']\n",
    "\n",
    "# Initialize an empty DataFrame for the final cohort\n",
    "final_cohort = pd.DataFrame(columns=['subject_id', 'hadm_id', 'stay_id', 'InvasiveDevice'])\n",
    "\n",
    "# Loop through each DataFrame to merge\n",
    "for df, name in zip(dfs, names):\n",
    "    # Create a temporary DataFrame with the name of the invasive device added\n",
    "    temp_df = df.copy()\n",
    "    temp_df['InvasiveDevice'] = name\n",
    "    \n",
    "    # Merge with the existing final cohort DataFrame\n",
    "    if final_cohort.empty:\n",
    "        final_cohort = temp_df\n",
    "    else:\n",
    "        final_cohort = pd.merge(final_cohort, temp_df, on=['subject_id', 'hadm_id', 'stay_id'], how='outer', suffixes=('', f'_{name}'))\n",
    "\n",
    "# Combine the InvasiveDevice columns into a single column\n",
    "final_cohort['InvasiveDevice'] = final_cohort.filter(like='InvasiveDevice').apply(lambda x: ', '.join(x.dropna()), axis=1)\n",
    "\n",
    "# Drop the extra InvasiveDevice columns\n",
    "final_cohort.drop(columns=final_cohort.filter(like='InvasiveDevice_').columns, inplace=True)"
   ]
  },
  {
   "cell_type": "code",
   "execution_count": 15,
   "metadata": {},
   "outputs": [
    {
     "data": {
      "text/html": [
       "<div>\n",
       "<style scoped>\n",
       "    .dataframe tbody tr th:only-of-type {\n",
       "        vertical-align: middle;\n",
       "    }\n",
       "\n",
       "    .dataframe tbody tr th {\n",
       "        vertical-align: top;\n",
       "    }\n",
       "\n",
       "    .dataframe thead th {\n",
       "        text-align: right;\n",
       "    }\n",
       "</style>\n",
       "<table border=\"1\" class=\"dataframe\">\n",
       "  <thead>\n",
       "    <tr style=\"text-align: right;\">\n",
       "      <th></th>\n",
       "      <th>subject_id</th>\n",
       "      <th>hadm_id</th>\n",
       "      <th>stay_id</th>\n",
       "      <th>InvasiveDevice</th>\n",
       "    </tr>\n",
       "  </thead>\n",
       "  <tbody>\n",
       "    <tr>\n",
       "      <th>0</th>\n",
       "      <td>14792425</td>\n",
       "      <td>21700173</td>\n",
       "      <td>31387676.0</td>\n",
       "      <td>Central Line</td>\n",
       "    </tr>\n",
       "    <tr>\n",
       "      <th>1</th>\n",
       "      <td>14792425</td>\n",
       "      <td>21700173</td>\n",
       "      <td>31387676.0</td>\n",
       "      <td>Central Line</td>\n",
       "    </tr>\n",
       "    <tr>\n",
       "      <th>2</th>\n",
       "      <td>15104738</td>\n",
       "      <td>27512296</td>\n",
       "      <td>35483572.0</td>\n",
       "      <td>Central Line, Ventilator</td>\n",
       "    </tr>\n",
       "    <tr>\n",
       "      <th>3</th>\n",
       "      <td>13282748</td>\n",
       "      <td>28141617</td>\n",
       "      <td>37907191.0</td>\n",
       "      <td>Central Line</td>\n",
       "    </tr>\n",
       "    <tr>\n",
       "      <th>4</th>\n",
       "      <td>13282748</td>\n",
       "      <td>28141617</td>\n",
       "      <td>37907191.0</td>\n",
       "      <td>Central Line</td>\n",
       "    </tr>\n",
       "  </tbody>\n",
       "</table>\n",
       "</div>"
      ],
      "text/plain": [
       "   subject_id   hadm_id     stay_id            InvasiveDevice\n",
       "0    14792425  21700173  31387676.0              Central Line\n",
       "1    14792425  21700173  31387676.0              Central Line\n",
       "2    15104738  27512296  35483572.0  Central Line, Ventilator\n",
       "3    13282748  28141617  37907191.0              Central Line\n",
       "4    13282748  28141617  37907191.0              Central Line"
      ]
     },
     "execution_count": 15,
     "metadata": {},
     "output_type": "execute_result"
    }
   ],
   "source": [
    "final_cohort.head()"
   ]
  },
  {
   "cell_type": "code",
   "execution_count": 16,
   "metadata": {},
   "outputs": [],
   "source": [
    "hai_positive_patients_df = dataframes['hai_positive_patients']\n",
    "invasive_device_cauti_df = dataframes['invasive_device_cauti']\n",
    "invasive_device_clabsi_df = dataframes['invasive_device_clabsi']\n",
    "invasive_device_vap_df = dataframes['invasive_device_vap']\n",
    "patient_detail_df = dataframes['patient_detail']\n",
    "lab_results_cauti_df = dataframes['lab_results_cauti']\n",
    "lab_results_clabsi_df = dataframes['lab_results_clabsi']\n",
    "lab_results_vap_df = dataframes['lab_results_vap']\n",
    "patient_immune_compromised_df = dataframes['patient_immune_compromised']\n",
    "patient_immunosuppressant_drugs_df = dataframes['patient_immunosuppressant_drugs']\n",
    "patient_recent_surgeries_df = dataframes['patient_recent_surgeries']\n",
    "patient_vital_signs_df = dataframes['patient_vital_signs']"
   ]
  },
  {
   "cell_type": "code",
   "execution_count": 52,
   "metadata": {},
   "outputs": [],
   "source": [
    "import pandas as pd\n",
    "\n",
    "def merge_dataframes(dfs_with_names, common_cols):\n",
    "    # Initialise the final DataFrame with the first DataFrame in the list\n",
    "    final_df = dfs_with_names[0][1].copy()\n",
    "    \n",
    "    # Loop through and merge each subsequent DataFrame\n",
    "    for name, df in dfs_with_names[1:]:\n",
    "        join_cols = [col for col in common_cols if col in df.columns]\n",
    "        suffix = f'_from_{name}'\n",
    "        final_df = pd.merge(final_df, df, on=join_cols, suffixes=('', suffix), how='left')\n",
    "        \n",
    "    return final_df\n",
    "\n",
    "# Define your lab results DataFrames with names\n",
    "lab_results_dfs_with_names = [\n",
    "    ('cauti_lab', lab_results_cauti_df),\n",
    "    ('clabsi_lab', lab_results_clabsi_df),\n",
    "    ('vap_lab', lab_results_vap_df)\n",
    "]\n",
    "\n",
    "# Merge lab results\n",
    "common_cols = ['subject_id', 'hadm_id', 'stay_id']\n",
    "final_lab_results = merge_dataframes(lab_results_dfs_with_names, common_cols)\n",
    "\n",
    "# Define your invasive devices DataFrames with names\n",
    "invasive_device_dfs_with_names = [\n",
    "    ('cauti_device', invasive_device_cauti_df), \n",
    "    ('clabsi_device', invasive_device_clabsi_df),\n",
    "    ('vap_device', invasive_device_vap_df)\n",
    "]\n",
    "\n",
    "# Merge invasive devices\n",
    "final_invasive_device = merge_dataframes(invasive_device_dfs_with_names, common_cols)\n"
   ]
  },
  {
   "cell_type": "code",
   "execution_count": 53,
   "metadata": {},
   "outputs": [],
   "source": [
    "# Filter rows where 'long_title' is not empty or not null\n",
    "filtered_patient_immune_compromised_df = patient_immune_compromised_df[patient_immune_compromised_df['long_title'].notna() & patient_immune_compromised_df['long_title'].ne('')]\n",
    "\n",
    "# Add a 'Immunocompromised' column, set it to True\n",
    "filtered_patient_immune_compromised_df['Immunocompromised'] = True\n",
    "\n",
    "# Merge this filtered dataframe with patient_detail_df on 'subject_id'\n",
    "merged_patient_detail = pd.merge(patient_detail_df, \n",
    "                                 filtered_patient_immune_compromised_df[['subject_id', 'Immunocompromised']], \n",
    "                                 on='subject_id', \n",
    "                                 how='left')\n",
    "\n",
    "# Fill NaN values in 'Immunocompromised' column with False\n",
    "merged_patient_detail['Immunocompromised'].fillna(False, inplace=True)\n"
   ]
  },
  {
   "cell_type": "code",
   "execution_count": 54,
   "metadata": {},
   "outputs": [
    {
     "data": {
      "text/plain": [
       "Immunocompromised\n",
       "True     450397\n",
       "False     17927\n",
       "Name: count, dtype: int64"
      ]
     },
     "execution_count": 54,
     "metadata": {},
     "output_type": "execute_result"
    }
   ],
   "source": [
    "merged_patient_detail['Immunocompromised'].value_counts()"
   ]
  },
  {
   "cell_type": "code",
   "execution_count": 50,
   "metadata": {},
   "outputs": [],
   "source": [
    "patient_detail_df = pd.read_csv('patient_cohort/patient_detail.csv')"
   ]
  },
  {
   "cell_type": "code",
   "execution_count": null,
   "metadata": {},
   "outputs": [],
   "source": [
    "additional_dfs = [\n",
    "    ('recent_surgeries', patient_recent_surgeries_df),\n",
    "    ('vital_signs', patient_vital_signs_df)\n",
    "]"
   ]
  },
  {
   "cell_type": "code",
   "execution_count": 67,
   "metadata": {},
   "outputs": [],
   "source": [
    "final_cohort_features = final_cohort.copy()"
   ]
  },
  {
   "cell_type": "code",
   "execution_count": null,
   "metadata": {},
   "outputs": [],
   "source": [
    "patient_detail_df\n",
    "final_invasive_device\n",
    "final_lab_results\n",
    "patient_recent_surgeries_df\n",
    "patient_vital_signs_df\n",
    "final_cohort_features"
   ]
  },
  {
   "cell_type": "code",
   "execution_count": 70,
   "metadata": {},
   "outputs": [
    {
     "name": "stdout",
     "output_type": "stream",
     "text": [
      "i: 0, name: vital_signs\n"
     ]
    }
   ],
   "source": [
    "# List of all the additional DataFrames to be merged\n",
    "additional_dfs = [\n",
    "    ('invasive_device', final_invasive_device), \n",
    "    ('lab_results', final_lab_results),\n",
    "    ('patient_detail', patient_detail_df),\n",
    "    ('recent_surgeries', patient_recent_surgeries_df),\n",
    "    ('vital_signs', patient_vital_signs_df)\n",
    "]\n",
    "\n",
    "\n",
    "# Iterate over each additional DataFrame to merge it with the final cohort\n",
    "for i, (name, df) in enumerate(additional_dfs):\n",
    "    print(f\"i: {i}, name: {name}\")\n",
    "    # Determine the common columns to join on\n",
    "    common_cols = ['subject_id', 'hadm_id', 'stay_id']\n",
    "    join_cols = [col for col in common_cols if col in df.columns]\n",
    "    \n",
    "    # Merge the DataFrame into the final cohort\n",
    "    suffix = '_from_{}'.format(name)\n",
    "    final_cohort = pd.merge(final_cohort, df, on=join_cols, suffixes=('_from_cohort', suffix), how='left')"
   ]
  },
  {
   "cell_type": "code",
   "execution_count": 123,
   "metadata": {},
   "outputs": [],
   "source": [
    "new_final_cohort = final_cohort.copy()\n",
    "\n",
    "additional_dfs = [\n",
    "    ('invasive_device', final_invasive_device), \n",
    "    ('lab_results', final_lab_results),\n",
    "    ('patient_detail', patient_detail_df),\n",
    "    ('recent_surgeries', patient_recent_surgeries_df),\n",
    "    ('vital_signs', patient_vital_signs_df)\n",
    "]"
   ]
  },
  {
   "cell_type": "code",
   "execution_count": 130,
   "metadata": {},
   "outputs": [],
   "source": [
    "merged_df = pd.merge(final_cohort, final_cohort_labelled, how='left', on=['subject_id', 'InvasiveDevice'])\n"
   ]
  },
  {
   "cell_type": "code",
   "execution_count": 134,
   "metadata": {},
   "outputs": [],
   "source": [
    "final_cohort = pd.read_csv('final_cohort.csv')"
   ]
  },
  {
   "cell_type": "code",
   "execution_count": 136,
   "metadata": {},
   "outputs": [
    {
     "data": {
      "text/html": [
       "<div>\n",
       "<style scoped>\n",
       "    .dataframe tbody tr th:only-of-type {\n",
       "        vertical-align: middle;\n",
       "    }\n",
       "\n",
       "    .dataframe tbody tr th {\n",
       "        vertical-align: top;\n",
       "    }\n",
       "\n",
       "    .dataframe thead th {\n",
       "        text-align: right;\n",
       "    }\n",
       "</style>\n",
       "<table border=\"1\" class=\"dataframe\">\n",
       "  <thead>\n",
       "    <tr style=\"text-align: right;\">\n",
       "      <th></th>\n",
       "      <th>subject_id</th>\n",
       "      <th>hadm_id</th>\n",
       "      <th>stay_id</th>\n",
       "      <th>InvasiveDevice</th>\n",
       "    </tr>\n",
       "  </thead>\n",
       "  <tbody>\n",
       "    <tr>\n",
       "      <th>0</th>\n",
       "      <td>14792425</td>\n",
       "      <td>21700173</td>\n",
       "      <td>31387676.0</td>\n",
       "      <td>Central Line</td>\n",
       "    </tr>\n",
       "    <tr>\n",
       "      <th>1</th>\n",
       "      <td>14792425</td>\n",
       "      <td>21700173</td>\n",
       "      <td>31387676.0</td>\n",
       "      <td>Central Line</td>\n",
       "    </tr>\n",
       "    <tr>\n",
       "      <th>2</th>\n",
       "      <td>15104738</td>\n",
       "      <td>27512296</td>\n",
       "      <td>35483572.0</td>\n",
       "      <td>Central Line, Ventilator</td>\n",
       "    </tr>\n",
       "    <tr>\n",
       "      <th>3</th>\n",
       "      <td>13282748</td>\n",
       "      <td>28141617</td>\n",
       "      <td>37907191.0</td>\n",
       "      <td>Central Line</td>\n",
       "    </tr>\n",
       "    <tr>\n",
       "      <th>4</th>\n",
       "      <td>13282748</td>\n",
       "      <td>28141617</td>\n",
       "      <td>37907191.0</td>\n",
       "      <td>Central Line</td>\n",
       "    </tr>\n",
       "  </tbody>\n",
       "</table>\n",
       "</div>"
      ],
      "text/plain": [
       "   subject_id   hadm_id     stay_id            InvasiveDevice\n",
       "0    14792425  21700173  31387676.0              Central Line\n",
       "1    14792425  21700173  31387676.0              Central Line\n",
       "2    15104738  27512296  35483572.0  Central Line, Ventilator\n",
       "3    13282748  28141617  37907191.0              Central Line\n",
       "4    13282748  28141617  37907191.0              Central Line"
      ]
     },
     "execution_count": 136,
     "metadata": {},
     "output_type": "execute_result"
    }
   ],
   "source": [
    "final_cohort.head()"
   ]
  },
  {
   "cell_type": "code",
   "execution_count": 135,
   "metadata": {},
   "outputs": [
    {
     "data": {
      "text/plain": [
       "61155"
      ]
     },
     "execution_count": 135,
     "metadata": {},
     "output_type": "execute_result"
    }
   ],
   "source": [
    "len(final_cohort)"
   ]
  },
  {
   "cell_type": "code",
   "execution_count": null,
   "metadata": {},
   "outputs": [],
   "source": [
    "merged_df = pd.merge(new_final_cohort, final_cohort_labelled[['subject_id', 'hadm_id', 'stay_id', 'HAI_category']],\n",
    "                     on=['subject_id', 'hadm_id', 'stay_id'], how='left')\n",
    "\n",
    "merged_df.head()"
   ]
  },
  {
   "cell_type": "code",
   "execution_count": 125,
   "metadata": {},
   "outputs": [
    {
     "data": {
      "text/html": [
       "<div>\n",
       "<style scoped>\n",
       "    .dataframe tbody tr th:only-of-type {\n",
       "        vertical-align: middle;\n",
       "    }\n",
       "\n",
       "    .dataframe tbody tr th {\n",
       "        vertical-align: top;\n",
       "    }\n",
       "\n",
       "    .dataframe thead th {\n",
       "        text-align: right;\n",
       "    }\n",
       "</style>\n",
       "<table border=\"1\" class=\"dataframe\">\n",
       "  <thead>\n",
       "    <tr style=\"text-align: right;\">\n",
       "      <th></th>\n",
       "      <th>subject_id</th>\n",
       "      <th>hadm_id_x</th>\n",
       "      <th>stay_id_x</th>\n",
       "      <th>InvasiveDevice</th>\n",
       "      <th>hadm_id_y</th>\n",
       "      <th>stay_id_y</th>\n",
       "      <th>HAI_category</th>\n",
       "    </tr>\n",
       "  </thead>\n",
       "  <tbody>\n",
       "    <tr>\n",
       "      <th>0</th>\n",
       "      <td>14792425</td>\n",
       "      <td>21700173</td>\n",
       "      <td>31387676.0</td>\n",
       "      <td>Central Line</td>\n",
       "      <td>21700173</td>\n",
       "      <td>31387676.0</td>\n",
       "      <td>No HAI</td>\n",
       "    </tr>\n",
       "    <tr>\n",
       "      <th>1</th>\n",
       "      <td>14792425</td>\n",
       "      <td>21700173</td>\n",
       "      <td>31387676.0</td>\n",
       "      <td>Central Line</td>\n",
       "      <td>21700173</td>\n",
       "      <td>31387676.0</td>\n",
       "      <td>No HAI</td>\n",
       "    </tr>\n",
       "    <tr>\n",
       "      <th>2</th>\n",
       "      <td>14792425</td>\n",
       "      <td>21700173</td>\n",
       "      <td>31387676.0</td>\n",
       "      <td>Central Line</td>\n",
       "      <td>24361584</td>\n",
       "      <td>31257950.0</td>\n",
       "      <td>No HAI</td>\n",
       "    </tr>\n",
       "    <tr>\n",
       "      <th>3</th>\n",
       "      <td>14792425</td>\n",
       "      <td>21700173</td>\n",
       "      <td>31387676.0</td>\n",
       "      <td>Central Line</td>\n",
       "      <td>24361584</td>\n",
       "      <td>31257950.0</td>\n",
       "      <td>No HAI</td>\n",
       "    </tr>\n",
       "    <tr>\n",
       "      <th>4</th>\n",
       "      <td>14792425</td>\n",
       "      <td>21700173</td>\n",
       "      <td>31387676.0</td>\n",
       "      <td>Central Line</td>\n",
       "      <td>28539848</td>\n",
       "      <td>-1.0</td>\n",
       "      <td>No HAI</td>\n",
       "    </tr>\n",
       "  </tbody>\n",
       "</table>\n",
       "</div>"
      ],
      "text/plain": [
       "   subject_id  hadm_id_x   stay_id_x InvasiveDevice  hadm_id_y   stay_id_y  \\\n",
       "0    14792425   21700173  31387676.0   Central Line   21700173  31387676.0   \n",
       "1    14792425   21700173  31387676.0   Central Line   21700173  31387676.0   \n",
       "2    14792425   21700173  31387676.0   Central Line   24361584  31257950.0   \n",
       "3    14792425   21700173  31387676.0   Central Line   24361584  31257950.0   \n",
       "4    14792425   21700173  31387676.0   Central Line   28539848        -1.0   \n",
       "\n",
       "  HAI_category  \n",
       "0       No HAI  \n",
       "1       No HAI  \n",
       "2       No HAI  \n",
       "3       No HAI  \n",
       "4       No HAI  "
      ]
     },
     "execution_count": 125,
     "metadata": {},
     "output_type": "execute_result"
    }
   ],
   "source": [
    "merged_df.head()"
   ]
  },
  {
   "cell_type": "code",
   "execution_count": 86,
   "metadata": {},
   "outputs": [
    {
     "data": {
      "text/plain": [
       "53742"
      ]
     },
     "execution_count": 86,
     "metadata": {},
     "output_type": "execute_result"
    }
   ],
   "source": [
    "final_invasive_device_agg = final_invasive_device.groupby(['stay_id']).mean().reset_index()\n",
    "\n",
    "len(final_invasive_device_agg)"
   ]
  },
  {
   "cell_type": "code",
   "execution_count": 87,
   "metadata": {},
   "outputs": [
    {
     "data": {
      "text/plain": [
       "39153"
      ]
     },
     "execution_count": 87,
     "metadata": {},
     "output_type": "execute_result"
    }
   ],
   "source": [
    "final_lab_results_agg = final_lab_results.groupby(['stay_id']).mean().reset_index()\n",
    "\n",
    "len(final_lab_results_agg)"
   ]
  },
  {
   "cell_type": "code",
   "execution_count": 89,
   "metadata": {},
   "outputs": [
    {
     "data": {
      "text/plain": [
       "44246"
      ]
     },
     "execution_count": 89,
     "metadata": {},
     "output_type": "execute_result"
    }
   ],
   "source": [
    "patient_detail_df_agg = patient_detail_df.groupby(['subject_id', 'hadm_id']).first().reset_index()\n",
    "\n",
    "len(patient_detail_df_agg)"
   ]
  },
  {
   "cell_type": "code",
   "execution_count": 90,
   "metadata": {},
   "outputs": [
    {
     "data": {
      "text/plain": [
       "11399"
      ]
     },
     "execution_count": 90,
     "metadata": {},
     "output_type": "execute_result"
    }
   ],
   "source": [
    "patient_recent_surgeries_df_agg = patient_recent_surgeries_df.groupby(['subject_id', 'hadm_id', 'stay_id']).mean().reset_index()\n",
    "\n",
    "len(patient_recent_surgeries_df_agg)"
   ]
  },
  {
   "cell_type": "code",
   "execution_count": 91,
   "metadata": {},
   "outputs": [
    {
     "data": {
      "text/plain": [
       "29604"
      ]
     },
     "execution_count": 91,
     "metadata": {},
     "output_type": "execute_result"
    }
   ],
   "source": [
    "patient_vital_signs_df_agg = patient_vital_signs_df.groupby(['subject_id', 'hadm_id', 'stay_id']).mean().reset_index()\n",
    "\n",
    "len(patient_vital_signs_df_agg)"
   ]
  },
  {
   "cell_type": "code",
   "execution_count": 92,
   "metadata": {},
   "outputs": [
    {
     "name": "stdout",
     "output_type": "stream",
     "text": [
      "i: 0, name: invasive_device\n",
      "i: 1, name: lab_results\n",
      "i: 2, name: patient_detail\n",
      "i: 3, name: recent_surgeries\n",
      "i: 4, name: vital_signs\n"
     ]
    }
   ],
   "source": [
    "from pandas.api.types import is_numeric_dtype\n",
    "\n",
    "# List to hold aggregated DataFrames\n",
    "aggregated_dfs = [\n",
    "    ('invasive_device', final_invasive_device_agg), \n",
    "    ('lab_results', final_lab_results_agg),\n",
    "    ('patient_detail', patient_detail_df_agg),\n",
    "    ('recent_surgeries', patient_recent_surgeries_df_agg),\n",
    "    ('vital_signs', patient_vital_signs_df_agg)\n",
    "]\n",
    "\n",
    "# Now merge the aggregated DataFrames into final_cohort\n",
    "for i, (name, df) in enumerate(aggregated_dfs):\n",
    "    print(f\"i: {i}, name: {name}\")\n",
    "    # Determine the common columns to join on\n",
    "    join_cols = [col for col in common_cols if col in df.columns]\n",
    "    \n",
    "    # Merge the DataFrame into the final cohort\n",
    "    suffix = f'_from_{name}'\n",
    "    new_final_cohort = pd.merge(new_final_cohort, df, on=join_cols, suffixes=('_from_cohort', suffix), how='left')\n"
   ]
  },
  {
   "cell_type": "code",
   "execution_count": 95,
   "metadata": {},
   "outputs": [],
   "source": [
    "new_final_cohort.to_csv('final_cohort_features.csv', index=False)"
   ]
  },
  {
   "cell_type": "code",
   "execution_count": 98,
   "metadata": {},
   "outputs": [],
   "source": [
    "final_cohort_labelled = pd.read_csv('final_cohort_labled.csv')"
   ]
  },
  {
   "cell_type": "code",
   "execution_count": 99,
   "metadata": {},
   "outputs": [
    {
     "data": {
      "text/html": [
       "<div>\n",
       "<style scoped>\n",
       "    .dataframe tbody tr th:only-of-type {\n",
       "        vertical-align: middle;\n",
       "    }\n",
       "\n",
       "    .dataframe tbody tr th {\n",
       "        vertical-align: top;\n",
       "    }\n",
       "\n",
       "    .dataframe thead th {\n",
       "        text-align: right;\n",
       "    }\n",
       "</style>\n",
       "<table border=\"1\" class=\"dataframe\">\n",
       "  <thead>\n",
       "    <tr style=\"text-align: right;\">\n",
       "      <th></th>\n",
       "      <th>subject_id</th>\n",
       "      <th>hadm_id</th>\n",
       "      <th>stay_id</th>\n",
       "      <th>InvasiveDevice</th>\n",
       "      <th>HAI_category</th>\n",
       "    </tr>\n",
       "  </thead>\n",
       "  <tbody>\n",
       "    <tr>\n",
       "      <th>0</th>\n",
       "      <td>14792425</td>\n",
       "      <td>21700173</td>\n",
       "      <td>31387676.0</td>\n",
       "      <td>Central Line</td>\n",
       "      <td>No HAI</td>\n",
       "    </tr>\n",
       "  </tbody>\n",
       "</table>\n",
       "</div>"
      ],
      "text/plain": [
       "   subject_id   hadm_id     stay_id InvasiveDevice HAI_category\n",
       "0    14792425  21700173  31387676.0   Central Line       No HAI"
      ]
     },
     "execution_count": 99,
     "metadata": {},
     "output_type": "execute_result"
    }
   ],
   "source": [
    "final_cohort_labelled.head(1)"
   ]
  },
  {
   "cell_type": "code",
   "execution_count": 109,
   "metadata": {},
   "outputs": [],
   "source": [
    "# Define the common columns to join on\n",
    "common_cols = ['subject_id', 'hadm_id', 'InvasiveDevice']\n",
    "\n",
    "# Merge the DataFrames\n",
    "merged_df = pd.merge(new_final_cohort, final_cohort_labelled, on=common_cols)\n",
    "\n",
    "\n"
   ]
  },
  {
   "cell_type": "code",
   "execution_count": 110,
   "metadata": {},
   "outputs": [
    {
     "data": {
      "text/plain": [
       "176248"
      ]
     },
     "execution_count": 110,
     "metadata": {},
     "output_type": "execute_result"
    }
   ],
   "source": [
    "len(merged_df)"
   ]
  },
  {
   "cell_type": "code",
   "execution_count": 108,
   "metadata": {},
   "outputs": [
    {
     "data": {
      "text/html": [
       "<div>\n",
       "<style scoped>\n",
       "    .dataframe tbody tr th:only-of-type {\n",
       "        vertical-align: middle;\n",
       "    }\n",
       "\n",
       "    .dataframe tbody tr th {\n",
       "        vertical-align: top;\n",
       "    }\n",
       "\n",
       "    .dataframe thead th {\n",
       "        text-align: right;\n",
       "    }\n",
       "</style>\n",
       "<table border=\"1\" class=\"dataframe\">\n",
       "  <thead>\n",
       "    <tr style=\"text-align: right;\">\n",
       "      <th></th>\n",
       "      <th>subject_id</th>\n",
       "      <th>hadm_id</th>\n",
       "      <th>stay_id</th>\n",
       "      <th>InvasiveDevice</th>\n",
       "      <th>value</th>\n",
       "      <th>duration_from_cohort</th>\n",
       "      <th>type_condom_cath</th>\n",
       "      <th>type_foley</th>\n",
       "      <th>type_ileoconduit</th>\n",
       "      <th>type_l_nephrostomy</th>\n",
       "      <th>...</th>\n",
       "      <th>maxtemperature</th>\n",
       "      <th>stddevtemperature</th>\n",
       "      <th>variancetemperature</th>\n",
       "      <th>percentile_cont_0_25temperature</th>\n",
       "      <th>percentile_cont_0_75temperature</th>\n",
       "      <th>counttemperature</th>\n",
       "      <th>time_with_Hyperthermia</th>\n",
       "      <th>time_with_Hypothermia</th>\n",
       "      <th>episodes_of_Hyperthermia</th>\n",
       "      <th>episodes_of_Hypothermia</th>\n",
       "    </tr>\n",
       "  </thead>\n",
       "  <tbody>\n",
       "    <tr>\n",
       "      <th>0</th>\n",
       "      <td>14792425</td>\n",
       "      <td>21700173</td>\n",
       "      <td>31387676.0</td>\n",
       "      <td>Central Line</td>\n",
       "      <td>15538.0</td>\n",
       "      <td>345600.0</td>\n",
       "      <td>0.0</td>\n",
       "      <td>1.0</td>\n",
       "      <td>0.0</td>\n",
       "      <td>0.0</td>\n",
       "      <td>...</td>\n",
       "      <td>98.6</td>\n",
       "      <td>29.931844</td>\n",
       "      <td>895.915282</td>\n",
       "      <td>37.1</td>\n",
       "      <td>98.0</td>\n",
       "      <td>40.0</td>\n",
       "      <td>69840.0</td>\n",
       "      <td>0.0</td>\n",
       "      <td>15.0</td>\n",
       "      <td>0.0</td>\n",
       "    </tr>\n",
       "    <tr>\n",
       "      <th>1</th>\n",
       "      <td>14792425</td>\n",
       "      <td>21700173</td>\n",
       "      <td>31387676.0</td>\n",
       "      <td>Central Line</td>\n",
       "      <td>15538.0</td>\n",
       "      <td>345600.0</td>\n",
       "      <td>0.0</td>\n",
       "      <td>1.0</td>\n",
       "      <td>0.0</td>\n",
       "      <td>0.0</td>\n",
       "      <td>...</td>\n",
       "      <td>98.6</td>\n",
       "      <td>29.931844</td>\n",
       "      <td>895.915282</td>\n",
       "      <td>37.1</td>\n",
       "      <td>98.0</td>\n",
       "      <td>40.0</td>\n",
       "      <td>69840.0</td>\n",
       "      <td>0.0</td>\n",
       "      <td>15.0</td>\n",
       "      <td>0.0</td>\n",
       "    </tr>\n",
       "    <tr>\n",
       "      <th>2</th>\n",
       "      <td>15104738</td>\n",
       "      <td>27512296</td>\n",
       "      <td>35483572.0</td>\n",
       "      <td>Central Line, Ventilator</td>\n",
       "      <td>13460.0</td>\n",
       "      <td>817200.0</td>\n",
       "      <td>0.0</td>\n",
       "      <td>1.0</td>\n",
       "      <td>0.0</td>\n",
       "      <td>0.0</td>\n",
       "      <td>...</td>\n",
       "      <td>101.1</td>\n",
       "      <td>30.526591</td>\n",
       "      <td>931.872742</td>\n",
       "      <td>37.0</td>\n",
       "      <td>99.2</td>\n",
       "      <td>93.0</td>\n",
       "      <td>177900.0</td>\n",
       "      <td>0.0</td>\n",
       "      <td>56.0</td>\n",
       "      <td>0.0</td>\n",
       "    </tr>\n",
       "    <tr>\n",
       "      <th>3</th>\n",
       "      <td>13282748</td>\n",
       "      <td>28141617</td>\n",
       "      <td>37907191.0</td>\n",
       "      <td>Central Line</td>\n",
       "      <td>NaN</td>\n",
       "      <td>NaN</td>\n",
       "      <td>NaN</td>\n",
       "      <td>NaN</td>\n",
       "      <td>NaN</td>\n",
       "      <td>NaN</td>\n",
       "      <td>...</td>\n",
       "      <td>99.0</td>\n",
       "      <td>0.414651</td>\n",
       "      <td>0.171935</td>\n",
       "      <td>97.6</td>\n",
       "      <td>98.2</td>\n",
       "      <td>63.0</td>\n",
       "      <td>310380.0</td>\n",
       "      <td>0.0</td>\n",
       "      <td>63.0</td>\n",
       "      <td>0.0</td>\n",
       "    </tr>\n",
       "    <tr>\n",
       "      <th>4</th>\n",
       "      <td>13282748</td>\n",
       "      <td>28141617</td>\n",
       "      <td>37907191.0</td>\n",
       "      <td>Central Line</td>\n",
       "      <td>NaN</td>\n",
       "      <td>NaN</td>\n",
       "      <td>NaN</td>\n",
       "      <td>NaN</td>\n",
       "      <td>NaN</td>\n",
       "      <td>NaN</td>\n",
       "      <td>...</td>\n",
       "      <td>99.0</td>\n",
       "      <td>0.414651</td>\n",
       "      <td>0.171935</td>\n",
       "      <td>97.6</td>\n",
       "      <td>98.2</td>\n",
       "      <td>63.0</td>\n",
       "      <td>310380.0</td>\n",
       "      <td>0.0</td>\n",
       "      <td>63.0</td>\n",
       "      <td>0.0</td>\n",
       "    </tr>\n",
       "  </tbody>\n",
       "</table>\n",
       "<p>5 rows × 249 columns</p>\n",
       "</div>"
      ],
      "text/plain": [
       "   subject_id   hadm_id     stay_id            InvasiveDevice    value  \\\n",
       "0    14792425  21700173  31387676.0              Central Line  15538.0   \n",
       "1    14792425  21700173  31387676.0              Central Line  15538.0   \n",
       "2    15104738  27512296  35483572.0  Central Line, Ventilator  13460.0   \n",
       "3    13282748  28141617  37907191.0              Central Line      NaN   \n",
       "4    13282748  28141617  37907191.0              Central Line      NaN   \n",
       "\n",
       "   duration_from_cohort  type_condom_cath  type_foley  type_ileoconduit  \\\n",
       "0              345600.0               0.0         1.0               0.0   \n",
       "1              345600.0               0.0         1.0               0.0   \n",
       "2              817200.0               0.0         1.0               0.0   \n",
       "3                   NaN               NaN         NaN               NaN   \n",
       "4                   NaN               NaN         NaN               NaN   \n",
       "\n",
       "   type_l_nephrostomy  ...  maxtemperature  stddevtemperature  \\\n",
       "0                 0.0  ...            98.6          29.931844   \n",
       "1                 0.0  ...            98.6          29.931844   \n",
       "2                 0.0  ...           101.1          30.526591   \n",
       "3                 NaN  ...            99.0           0.414651   \n",
       "4                 NaN  ...            99.0           0.414651   \n",
       "\n",
       "   variancetemperature  percentile_cont_0_25temperature  \\\n",
       "0           895.915282                             37.1   \n",
       "1           895.915282                             37.1   \n",
       "2           931.872742                             37.0   \n",
       "3             0.171935                             97.6   \n",
       "4             0.171935                             97.6   \n",
       "\n",
       "   percentile_cont_0_75temperature  counttemperature  time_with_Hyperthermia  \\\n",
       "0                             98.0              40.0                 69840.0   \n",
       "1                             98.0              40.0                 69840.0   \n",
       "2                             99.2              93.0                177900.0   \n",
       "3                             98.2              63.0                310380.0   \n",
       "4                             98.2              63.0                310380.0   \n",
       "\n",
       "   time_with_Hypothermia  episodes_of_Hyperthermia  episodes_of_Hypothermia  \n",
       "0                    0.0                      15.0                      0.0  \n",
       "1                    0.0                      15.0                      0.0  \n",
       "2                    0.0                      56.0                      0.0  \n",
       "3                    0.0                      63.0                      0.0  \n",
       "4                    0.0                      63.0                      0.0  \n",
       "\n",
       "[5 rows x 249 columns]"
      ]
     },
     "execution_count": 108,
     "metadata": {},
     "output_type": "execute_result"
    }
   ],
   "source": [
    "new_final_cohort.head(5)"
   ]
  },
  {
   "cell_type": "code",
   "execution_count": 112,
   "metadata": {},
   "outputs": [
    {
     "data": {
      "text/plain": [
       "63036"
      ]
     },
     "execution_count": 112,
     "metadata": {},
     "output_type": "execute_result"
    }
   ],
   "source": [
    "final_cohort_labelled.head()"
   ]
  },
  {
   "cell_type": "code",
   "execution_count": 105,
   "metadata": {},
   "outputs": [
    {
     "name": "stdout",
     "output_type": "stream",
     "text": [
      "61155\n",
      "63036\n"
     ]
    }
   ],
   "source": [
    "print(len(new_final_cohort))\n",
    "print(len(final_cohort_labelled))"
   ]
  },
  {
   "cell_type": "code",
   "execution_count": 115,
   "metadata": {},
   "outputs": [],
   "source": [
    "merged_df = pd.merge(new_final_cohort, final_cohort_labelled, how='left', on=['subject_id', 'InvasiveDevice'])"
   ]
  },
  {
   "cell_type": "code",
   "execution_count": 120,
   "metadata": {},
   "outputs": [],
   "source": [
    "final_cohort_features_labelled = pd.read_csv('final_cohort_features_label.csv')"
   ]
  },
  {
   "cell_type": "code",
   "execution_count": 127,
   "metadata": {},
   "outputs": [
    {
     "data": {
      "text/html": [
       "<div>\n",
       "<style scoped>\n",
       "    .dataframe tbody tr th:only-of-type {\n",
       "        vertical-align: middle;\n",
       "    }\n",
       "\n",
       "    .dataframe tbody tr th {\n",
       "        vertical-align: top;\n",
       "    }\n",
       "\n",
       "    .dataframe thead th {\n",
       "        text-align: right;\n",
       "    }\n",
       "</style>\n",
       "<table border=\"1\" class=\"dataframe\">\n",
       "  <thead>\n",
       "    <tr style=\"text-align: right;\">\n",
       "      <th></th>\n",
       "      <th>subject_id</th>\n",
       "      <th>hadm_id</th>\n",
       "      <th>stay_id</th>\n",
       "      <th>InvasiveDevice</th>\n",
       "      <th>HAI_category</th>\n",
       "    </tr>\n",
       "  </thead>\n",
       "  <tbody>\n",
       "    <tr>\n",
       "      <th>0</th>\n",
       "      <td>14792425</td>\n",
       "      <td>21700173</td>\n",
       "      <td>31387676.0</td>\n",
       "      <td>Central Line</td>\n",
       "      <td>No HAI</td>\n",
       "    </tr>\n",
       "    <tr>\n",
       "      <th>1</th>\n",
       "      <td>14792425</td>\n",
       "      <td>21700173</td>\n",
       "      <td>31387676.0</td>\n",
       "      <td>Central Line</td>\n",
       "      <td>No HAI</td>\n",
       "    </tr>\n",
       "    <tr>\n",
       "      <th>2</th>\n",
       "      <td>14792425</td>\n",
       "      <td>21700173</td>\n",
       "      <td>31387676.0</td>\n",
       "      <td>Central Line</td>\n",
       "      <td>No HAI</td>\n",
       "    </tr>\n",
       "    <tr>\n",
       "      <th>3</th>\n",
       "      <td>14792425</td>\n",
       "      <td>21700173</td>\n",
       "      <td>31387676.0</td>\n",
       "      <td>Central Line</td>\n",
       "      <td>No HAI</td>\n",
       "    </tr>\n",
       "    <tr>\n",
       "      <th>4</th>\n",
       "      <td>15104738</td>\n",
       "      <td>27512296</td>\n",
       "      <td>35483572.0</td>\n",
       "      <td>Central Line, Ventilator</td>\n",
       "      <td>No HAI</td>\n",
       "    </tr>\n",
       "  </tbody>\n",
       "</table>\n",
       "</div>"
      ],
      "text/plain": [
       "   subject_id   hadm_id     stay_id            InvasiveDevice HAI_category\n",
       "0    14792425  21700173  31387676.0              Central Line       No HAI\n",
       "1    14792425  21700173  31387676.0              Central Line       No HAI\n",
       "2    14792425  21700173  31387676.0              Central Line       No HAI\n",
       "3    14792425  21700173  31387676.0              Central Line       No HAI\n",
       "4    15104738  27512296  35483572.0  Central Line, Ventilator       No HAI"
      ]
     },
     "execution_count": 127,
     "metadata": {},
     "output_type": "execute_result"
    }
   ],
   "source": [
    "merged_df = pd.merge(new_final_cohort, final_cohort_labelled[['subject_id', 'hadm_id', 'stay_id', 'HAI_category']],\n",
    "                     on=['subject_id', 'hadm_id', 'stay_id'], how='left')\n",
    "\n",
    "merged_df.head()"
   ]
  },
  {
   "cell_type": "code",
   "execution_count": 128,
   "metadata": {},
   "outputs": [
    {
     "data": {
      "text/plain": [
       "HAI_category\n",
       "No HAI    76245\n",
       "HAP       23430\n",
       "CAUTI      9187\n",
       "CLABSI     4020\n",
       "Name: count, dtype: int64"
      ]
     },
     "execution_count": 128,
     "metadata": {},
     "output_type": "execute_result"
    }
   ],
   "source": [
    "merged_df['HAI_category'].value_counts()"
   ]
  },
  {
   "cell_type": "code",
   "execution_count": 129,
   "metadata": {},
   "outputs": [
    {
     "data": {
      "text/plain": [
       "112882"
      ]
     },
     "execution_count": 129,
     "metadata": {},
     "output_type": "execute_result"
    }
   ],
   "source": [
    "len(merged_df)"
   ]
  },
  {
   "cell_type": "code",
   "execution_count": 138,
   "metadata": {},
   "outputs": [
    {
     "name": "stderr",
     "output_type": "stream",
     "text": [
      "C:\\Users\\demic\\AppData\\Local\\Temp\\ipykernel_18376\\2141064054.py:1: DtypeWarning: Columns (176,177,178,179,180,181,182,183,184,185,186,187,188,192,195,196) have mixed types. Specify dtype option on import or set low_memory=False.\n",
      "  result_df = pd.read_csv('result_df_features.csv')\n"
     ]
    }
   ],
   "source": [
    "result_df = pd.read_csv('result_df_features.csv')"
   ]
  },
  {
   "cell_type": "code",
   "execution_count": 142,
   "metadata": {},
   "outputs": [],
   "source": [
    "result_df['HAI_category'].fillna('No HAI', inplace=True)"
   ]
  },
  {
   "cell_type": "code",
   "execution_count": 143,
   "metadata": {},
   "outputs": [],
   "source": [
    "result_df.to_csv('patient_cohort_features.csv', index=False)"
   ]
  },
  {
   "cell_type": "code",
   "execution_count": 121,
   "metadata": {},
   "outputs": [
    {
     "data": {
      "text/plain": [
       "98096"
      ]
     },
     "execution_count": 121,
     "metadata": {},
     "output_type": "execute_result"
    }
   ],
   "source": [
    "len(final_cohort_features_labelled)"
   ]
  }
 ],
 "metadata": {
  "kernelspec": {
   "display_name": "MLHealth",
   "language": "python",
   "name": "python3"
  },
  "language_info": {
   "codemirror_mode": {
    "name": "ipython",
    "version": 3
   },
   "file_extension": ".py",
   "mimetype": "text/x-python",
   "name": "python",
   "nbconvert_exporter": "python",
   "pygments_lexer": "ipython3",
   "version": "3.11.4"
  }
 },
 "nbformat": 4,
 "nbformat_minor": 2
}
